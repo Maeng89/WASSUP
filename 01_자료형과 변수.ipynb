{
 "cells": [
  {
   "cell_type": "markdown",
   "id": "74291bf0",
   "metadata": {},
   "source": [
    "# 숫자형"
   ]
  },
  {
   "cell_type": "markdown",
   "id": "8b30cb25",
   "metadata": {},
   "source": [
    "## 정수형"
   ]
  },
  {
   "cell_type": "code",
   "execution_count": 1,
   "id": "22fba18f",
   "metadata": {
    "ExecuteTime": {
     "end_time": "2023-11-23T02:18:39.348412Z",
     "start_time": "2023-11-23T02:18:39.344456Z"
    }
   },
   "outputs": [],
   "source": [
    "a = 123"
   ]
  },
  {
   "cell_type": "code",
   "execution_count": 2,
   "id": "4dbbcde6",
   "metadata": {
    "ExecuteTime": {
     "end_time": "2023-11-23T02:18:51.040416Z",
     "start_time": "2023-11-23T02:18:51.031612Z"
    }
   },
   "outputs": [
    {
     "data": {
      "text/plain": [
       "123"
      ]
     },
     "execution_count": 2,
     "metadata": {},
     "output_type": "execute_result"
    }
   ],
   "source": [
    "a"
   ]
  },
  {
   "cell_type": "code",
   "execution_count": 3,
   "id": "535284c2",
   "metadata": {
    "ExecuteTime": {
     "end_time": "2023-11-23T02:20:44.625903Z",
     "start_time": "2023-11-23T02:20:44.621894Z"
    }
   },
   "outputs": [
    {
     "data": {
      "text/plain": [
       "-178"
      ]
     },
     "execution_count": 3,
     "metadata": {},
     "output_type": "execute_result"
    }
   ],
   "source": [
    "a = -178\n",
    "a"
   ]
  },
  {
   "cell_type": "code",
   "execution_count": 4,
   "id": "10be52bb",
   "metadata": {
    "ExecuteTime": {
     "end_time": "2023-11-23T02:20:57.134398Z",
     "start_time": "2023-11-23T02:20:57.128416Z"
    }
   },
   "outputs": [
    {
     "data": {
      "text/plain": [
       "0"
      ]
     },
     "execution_count": 4,
     "metadata": {},
     "output_type": "execute_result"
    }
   ],
   "source": [
    "a = 0\n",
    "a"
   ]
  },
  {
   "cell_type": "markdown",
   "id": "0a6bfbed",
   "metadata": {},
   "source": [
    "## 실수형"
   ]
  },
  {
   "cell_type": "code",
   "execution_count": 5,
   "id": "19ac8370",
   "metadata": {
    "ExecuteTime": {
     "end_time": "2023-11-23T02:21:19.714912Z",
     "start_time": "2023-11-23T02:21:19.707932Z"
    }
   },
   "outputs": [
    {
     "data": {
      "text/plain": [
       "1.2"
      ]
     },
     "execution_count": 5,
     "metadata": {},
     "output_type": "execute_result"
    }
   ],
   "source": [
    "a = 1.2\n",
    "a"
   ]
  },
  {
   "cell_type": "code",
   "execution_count": 6,
   "id": "c536947a",
   "metadata": {
    "ExecuteTime": {
     "end_time": "2023-11-23T02:21:30.065770Z",
     "start_time": "2023-11-23T02:21:30.061028Z"
    }
   },
   "outputs": [
    {
     "data": {
      "text/plain": [
       "-3.45"
      ]
     },
     "execution_count": 6,
     "metadata": {},
     "output_type": "execute_result"
    }
   ],
   "source": [
    "a = -3.45\n",
    "a"
   ]
  },
  {
   "cell_type": "code",
   "execution_count": 7,
   "id": "cbf495a8",
   "metadata": {
    "ExecuteTime": {
     "end_time": "2023-11-23T02:22:00.825064Z",
     "start_time": "2023-11-23T02:22:00.815088Z"
    }
   },
   "outputs": [
    {
     "data": {
      "text/plain": [
       "42400000000.0"
      ]
     },
     "execution_count": 7,
     "metadata": {},
     "output_type": "execute_result"
    }
   ],
   "source": [
    "# 컴퓨터식 지수 표현\n",
    "a = 4.24E10  # 4.24 * 10&^10\n",
    "a"
   ]
  },
  {
   "cell_type": "code",
   "execution_count": 8,
   "id": "4da312af",
   "metadata": {
    "ExecuteTime": {
     "end_time": "2023-11-23T02:22:26.732173Z",
     "start_time": "2023-11-23T02:22:26.726845Z"
    }
   },
   "outputs": [
    {
     "data": {
      "text/plain": [
       "4.24e-10"
      ]
     },
     "execution_count": 8,
     "metadata": {},
     "output_type": "execute_result"
    }
   ],
   "source": [
    "# 컴퓨터식 지수 표현\n",
    "a = 4.24E-10  # 4.24 * 10&^10\n",
    "a"
   ]
  },
  {
   "cell_type": "code",
   "execution_count": 9,
   "id": "983b4037",
   "metadata": {
    "ExecuteTime": {
     "end_time": "2023-11-23T02:23:13.230313Z",
     "start_time": "2023-11-23T02:23:13.225340Z"
    }
   },
   "outputs": [
    {
     "data": {
      "text/plain": [
       "127"
      ]
     },
     "execution_count": 9,
     "metadata": {},
     "output_type": "execute_result"
    }
   ],
   "source": [
    "# 8진수와 16진수\n",
    "a = 0o177\n",
    "a"
   ]
  },
  {
   "cell_type": "code",
   "execution_count": 10,
   "id": "3ccbbdb5",
   "metadata": {
    "ExecuteTime": {
     "end_time": "2023-11-23T02:23:28.264847Z",
     "start_time": "2023-11-23T02:23:28.259346Z"
    }
   },
   "outputs": [
    {
     "data": {
      "text/plain": [
       "int"
      ]
     },
     "execution_count": 10,
     "metadata": {},
     "output_type": "execute_result"
    }
   ],
   "source": [
    "type(a)"
   ]
  },
  {
   "cell_type": "code",
   "execution_count": 11,
   "id": "962c60b0",
   "metadata": {
    "ExecuteTime": {
     "end_time": "2023-11-23T02:23:53.809767Z",
     "start_time": "2023-11-23T02:23:53.797773Z"
    }
   },
   "outputs": [
    {
     "data": {
      "text/plain": [
       "2303"
      ]
     },
     "execution_count": 11,
     "metadata": {},
     "output_type": "execute_result"
    }
   ],
   "source": [
    "a = 0x8ff\n",
    "a"
   ]
  },
  {
   "cell_type": "markdown",
   "id": "93f8a546",
   "metadata": {},
   "source": [
    "## 사칙연산"
   ]
  },
  {
   "cell_type": "code",
   "execution_count": 12,
   "id": "79d9ed17",
   "metadata": {
    "ExecuteTime": {
     "end_time": "2023-11-23T02:24:44.236037Z",
     "start_time": "2023-11-23T02:24:44.231791Z"
    }
   },
   "outputs": [
    {
     "data": {
      "text/plain": [
       "7"
      ]
     },
     "execution_count": 12,
     "metadata": {},
     "output_type": "execute_result"
    }
   ],
   "source": [
    "a = 3\n",
    "b = 4\n",
    "a + b"
   ]
  },
  {
   "cell_type": "code",
   "execution_count": 13,
   "id": "e0eeb45c",
   "metadata": {
    "ExecuteTime": {
     "end_time": "2023-11-23T02:25:02.824240Z",
     "start_time": "2023-11-23T02:25:02.814263Z"
    }
   },
   "outputs": [
    {
     "data": {
      "text/plain": [
       "12"
      ]
     },
     "execution_count": 13,
     "metadata": {},
     "output_type": "execute_result"
    }
   ],
   "source": [
    "a * b"
   ]
  },
  {
   "cell_type": "code",
   "execution_count": 14,
   "id": "a546b029",
   "metadata": {
    "ExecuteTime": {
     "end_time": "2023-11-23T02:25:13.037734Z",
     "start_time": "2023-11-23T02:25:13.032375Z"
    }
   },
   "outputs": [
    {
     "data": {
      "text/plain": [
       "0.75"
      ]
     },
     "execution_count": 14,
     "metadata": {},
     "output_type": "execute_result"
    }
   ],
   "source": [
    "a / b"
   ]
  },
  {
   "cell_type": "code",
   "execution_count": 15,
   "id": "ac86c9e6",
   "metadata": {
    "ExecuteTime": {
     "end_time": "2023-11-23T02:26:47.610534Z",
     "start_time": "2023-11-23T02:26:47.606511Z"
    }
   },
   "outputs": [
    {
     "data": {
      "text/plain": [
       "81"
      ]
     },
     "execution_count": 15,
     "metadata": {},
     "output_type": "execute_result"
    }
   ],
   "source": [
    "# x의 y제곱\n",
    "a ** b"
   ]
  },
  {
   "cell_type": "code",
   "execution_count": 16,
   "id": "51185489",
   "metadata": {
    "ExecuteTime": {
     "end_time": "2023-11-23T02:27:11.320886Z",
     "start_time": "2023-11-23T02:27:11.316849Z"
    }
   },
   "outputs": [
    {
     "data": {
      "text/plain": [
       "1"
      ]
     },
     "execution_count": 16,
     "metadata": {},
     "output_type": "execute_result"
    }
   ],
   "source": [
    "# 나눗셈 나머지 반환 %\n",
    "\n",
    "7 % 3"
   ]
  },
  {
   "cell_type": "code",
   "execution_count": 17,
   "id": "5aad9b31",
   "metadata": {
    "ExecuteTime": {
     "end_time": "2023-11-23T02:27:19.480218Z",
     "start_time": "2023-11-23T02:27:19.475527Z"
    }
   },
   "outputs": [
    {
     "data": {
      "text/plain": [
       "3"
      ]
     },
     "execution_count": 17,
     "metadata": {},
     "output_type": "execute_result"
    }
   ],
   "source": [
    "3 % 7"
   ]
  },
  {
   "cell_type": "code",
   "execution_count": 18,
   "id": "5ddd2894",
   "metadata": {
    "ExecuteTime": {
     "end_time": "2023-11-23T02:27:40.584139Z",
     "start_time": "2023-11-23T02:27:40.578139Z"
    }
   },
   "outputs": [
    {
     "data": {
      "text/plain": [
       "1.75"
      ]
     },
     "execution_count": 18,
     "metadata": {},
     "output_type": "execute_result"
    }
   ],
   "source": [
    "# 나눗셈의 몫 반환 //\n",
    "\n",
    "7 / 4"
   ]
  },
  {
   "cell_type": "code",
   "execution_count": 19,
   "id": "07424fb8",
   "metadata": {
    "ExecuteTime": {
     "end_time": "2023-11-23T02:27:49.385043Z",
     "start_time": "2023-11-23T02:27:49.378544Z"
    }
   },
   "outputs": [
    {
     "data": {
      "text/plain": [
       "1"
      ]
     },
     "execution_count": 19,
     "metadata": {},
     "output_type": "execute_result"
    }
   ],
   "source": [
    "7 // 4"
   ]
  },
  {
   "cell_type": "code",
   "execution_count": 20,
   "id": "93f7d820",
   "metadata": {
    "ExecuteTime": {
     "end_time": "2023-11-23T02:27:57.117217Z",
     "start_time": "2023-11-23T02:27:57.112380Z"
    }
   },
   "outputs": [
    {
     "data": {
      "text/plain": [
       "3"
      ]
     },
     "execution_count": 20,
     "metadata": {},
     "output_type": "execute_result"
    }
   ],
   "source": [
    " 7 % 4"
   ]
  },
  {
   "cell_type": "markdown",
   "id": "4d8776c7",
   "metadata": {},
   "source": [
    "# 문자열"
   ]
  },
  {
   "cell_type": "code",
   "execution_count": 21,
   "id": "cbd03082",
   "metadata": {
    "ExecuteTime": {
     "end_time": "2023-11-23T02:32:40.331038Z",
     "start_time": "2023-11-23T02:32:40.326384Z"
    }
   },
   "outputs": [
    {
     "data": {
      "text/plain": [
       "'Hello World'"
      ]
     },
     "execution_count": 21,
     "metadata": {},
     "output_type": "execute_result"
    }
   ],
   "source": [
    "\"Hello World\""
   ]
  },
  {
   "cell_type": "code",
   "execution_count": 22,
   "id": "6162690d",
   "metadata": {
    "ExecuteTime": {
     "end_time": "2023-11-23T02:32:49.279788Z",
     "start_time": "2023-11-23T02:32:49.275194Z"
    }
   },
   "outputs": [
    {
     "data": {
      "text/plain": [
       "'Hello World'"
      ]
     },
     "execution_count": 22,
     "metadata": {},
     "output_type": "execute_result"
    }
   ],
   "source": [
    "'Hello World'"
   ]
  },
  {
   "cell_type": "code",
   "execution_count": 24,
   "id": "abeec484",
   "metadata": {
    "ExecuteTime": {
     "end_time": "2023-11-23T02:33:45.994071Z",
     "start_time": "2023-11-23T02:33:45.989085Z"
    }
   },
   "outputs": [
    {
     "data": {
      "text/plain": [
       "'Life is too short, \\n\\nYou need python'"
      ]
     },
     "execution_count": 24,
     "metadata": {},
     "output_type": "execute_result"
    }
   ],
   "source": [
    "\"\"\"Life is too short, \n",
    "\n",
    "You need python\"\"\""
   ]
  },
  {
   "cell_type": "code",
   "execution_count": 25,
   "id": "9cdc671d",
   "metadata": {
    "ExecuteTime": {
     "end_time": "2023-11-23T02:34:01.056699Z",
     "start_time": "2023-11-23T02:34:01.051946Z"
    }
   },
   "outputs": [
    {
     "data": {
      "text/plain": [
       "'Life is too short, You need python'"
      ]
     },
     "execution_count": 25,
     "metadata": {},
     "output_type": "execute_result"
    }
   ],
   "source": [
    "'''Life is too short, You need python'''"
   ]
  },
  {
   "cell_type": "code",
   "execution_count": null,
   "id": "21efa695",
   "metadata": {},
   "outputs": [],
   "source": [
    "'Python's favorite food is perl'"
   ]
  },
  {
   "cell_type": "code",
   "execution_count": 26,
   "id": "1488e845",
   "metadata": {
    "ExecuteTime": {
     "end_time": "2023-11-23T02:35:21.273717Z",
     "start_time": "2023-11-23T02:35:21.268729Z"
    }
   },
   "outputs": [
    {
     "data": {
      "text/plain": [
       "\"Python's favorite food is perl\""
      ]
     },
     "execution_count": 26,
     "metadata": {},
     "output_type": "execute_result"
    }
   ],
   "source": [
    "\"Python's favorite food is perl\""
   ]
  },
  {
   "cell_type": "code",
   "execution_count": 28,
   "id": "043f1b33",
   "metadata": {
    "ExecuteTime": {
     "end_time": "2023-11-23T02:36:31.669038Z",
     "start_time": "2023-11-23T02:36:31.663828Z"
    }
   },
   "outputs": [
    {
     "data": {
      "text/plain": [
       "\"Python's favorite food is perl\""
      ]
     },
     "execution_count": 28,
     "metadata": {},
     "output_type": "execute_result"
    }
   ],
   "source": [
    "food = \"Python's favorite food is perl\"\n",
    "food"
   ]
  },
  {
   "cell_type": "code",
   "execution_count": 30,
   "id": "46dba74a",
   "metadata": {
    "ExecuteTime": {
     "end_time": "2023-11-23T02:38:05.155204Z",
     "start_time": "2023-11-23T02:38:05.150416Z"
    }
   },
   "outputs": [
    {
     "data": {
      "text/plain": [
       "'\"Python is very easy.\" he says.'"
      ]
     },
     "execution_count": 30,
     "metadata": {},
     "output_type": "execute_result"
    }
   ],
   "source": [
    "'\"Python is very easy.\" he says.'"
   ]
  },
  {
   "cell_type": "code",
   "execution_count": 33,
   "id": "c16f78c1",
   "metadata": {
    "ExecuteTime": {
     "end_time": "2023-11-23T02:41:26.505688Z",
     "start_time": "2023-11-23T02:41:26.500603Z"
    }
   },
   "outputs": [
    {
     "data": {
      "text/plain": [
       "(\"Python's favorite food is perl\", '\"Python is very easy.\" he says.')"
      ]
     },
     "execution_count": 33,
     "metadata": {},
     "output_type": "execute_result"
    }
   ],
   "source": [
    "# 백슬래시(\\)를 사용해서 따옴표를 문자열에 포함 가능\n",
    "food = 'Python\\'s favorite food is perl'\n",
    "say = \"\\\"Python is very easy.\\\" he says.\"\n",
    "food, say"
   ]
  },
  {
   "cell_type": "markdown",
   "id": "f326b94c",
   "metadata": {},
   "source": [
    "### 여러 줄인 문자열을 변수에 대입하고 싶을 때"
   ]
  },
  {
   "cell_type": "code",
   "execution_count": 35,
   "id": "cb0a404f",
   "metadata": {
    "ExecuteTime": {
     "end_time": "2023-11-23T02:43:18.439117Z",
     "start_time": "2023-11-23T02:43:18.435067Z"
    }
   },
   "outputs": [
    {
     "data": {
      "text/plain": [
       "'Life is too short\\nYou need python'"
      ]
     },
     "execution_count": 35,
     "metadata": {},
     "output_type": "execute_result"
    }
   ],
   "source": [
    "# 줄을 바꾸는 이스케이프코드 \\n\n",
    "multiline = \"Life is too short\\nYou need python\"\n",
    "multiline # notebook 편의기능"
   ]
  },
  {
   "cell_type": "code",
   "execution_count": 36,
   "id": "0c7205bb",
   "metadata": {
    "ExecuteTime": {
     "end_time": "2023-11-23T02:43:49.025635Z",
     "start_time": "2023-11-23T02:43:49.015368Z"
    }
   },
   "outputs": [
    {
     "name": "stdout",
     "output_type": "stream",
     "text": [
      "Life is too short\n",
      "You need python\n"
     ]
    }
   ],
   "source": [
    "print(multiline) # python 내장함수"
   ]
  },
  {
   "cell_type": "markdown",
   "id": "cb94c899",
   "metadata": {},
   "source": [
    "## 연속된 따옴표 사용하기"
   ]
  },
  {
   "cell_type": "code",
   "execution_count": 38,
   "id": "df5ca605",
   "metadata": {
    "ExecuteTime": {
     "end_time": "2023-11-23T02:46:11.176755Z",
     "start_time": "2023-11-23T02:46:11.171698Z"
    }
   },
   "outputs": [
    {
     "data": {
      "text/plain": [
       "'Life is too short, \\nYou need python'"
      ]
     },
     "execution_count": 38,
     "metadata": {},
     "output_type": "execute_result"
    }
   ],
   "source": [
    "multiline = \"\"\"Life is too short, \n",
    "You need python\"\"\"\n",
    "multiline"
   ]
  },
  {
   "cell_type": "code",
   "execution_count": 39,
   "id": "782da02d",
   "metadata": {
    "ExecuteTime": {
     "end_time": "2023-11-23T02:46:21.772071Z",
     "start_time": "2023-11-23T02:46:21.763089Z"
    }
   },
   "outputs": [
    {
     "name": "stdout",
     "output_type": "stream",
     "text": [
      "Life is too short, \n",
      "You need python\n"
     ]
    }
   ],
   "source": [
    "print(multiline)"
   ]
  },
  {
   "cell_type": "markdown",
   "id": "96d58718",
   "metadata": {},
   "source": [
    "## 문자열 연산하기"
   ]
  },
  {
   "cell_type": "code",
   "execution_count": 1,
   "id": "765a3825",
   "metadata": {
    "ExecuteTime": {
     "end_time": "2023-11-24T00:35:03.410045Z",
     "start_time": "2023-11-24T00:35:03.400155Z"
    }
   },
   "outputs": [
    {
     "data": {
      "text/plain": [
       "'Python is fun'"
      ]
     },
     "execution_count": 1,
     "metadata": {},
     "output_type": "execute_result"
    }
   ],
   "source": [
    "head = \"Python\"\n",
    "tail = \" is fun\"\n",
    "head + tail"
   ]
  },
  {
   "cell_type": "code",
   "execution_count": 2,
   "id": "08aee30b",
   "metadata": {
    "ExecuteTime": {
     "end_time": "2023-11-24T00:35:22.135570Z",
     "start_time": "2023-11-24T00:35:22.129067Z"
    }
   },
   "outputs": [
    {
     "data": {
      "text/plain": [
       "'PythonPython'"
      ]
     },
     "execution_count": 2,
     "metadata": {},
     "output_type": "execute_result"
    }
   ],
   "source": [
    "a = \"Python\"\n",
    "a * 2"
   ]
  },
  {
   "cell_type": "code",
   "execution_count": 3,
   "id": "ff854ac1",
   "metadata": {
    "ExecuteTime": {
     "end_time": "2023-11-24T00:35:35.910492Z",
     "start_time": "2023-11-24T00:35:35.901492Z"
    }
   },
   "outputs": [
    {
     "name": "stdout",
     "output_type": "stream",
     "text": [
      "==================================================\n"
     ]
    }
   ],
   "source": [
    "print('='*50)"
   ]
  },
  {
   "cell_type": "code",
   "execution_count": 4,
   "id": "4c37629b",
   "metadata": {
    "ExecuteTime": {
     "end_time": "2023-11-24T00:36:13.872958Z",
     "start_time": "2023-11-24T00:36:13.865149Z"
    }
   },
   "outputs": [
    {
     "data": {
      "text/plain": [
       "17"
      ]
     },
     "execution_count": 4,
     "metadata": {},
     "output_type": "execute_result"
    }
   ],
   "source": [
    "a = \"Life is too short\"\n",
    "len(a)"
   ]
  },
  {
   "cell_type": "markdown",
   "id": "3fe409c6",
   "metadata": {},
   "source": [
    "# 문자열 인덱싱과 슬라이싱"
   ]
  },
  {
   "cell_type": "markdown",
   "id": "654a4123",
   "metadata": {},
   "source": [
    "## 인덱싱"
   ]
  },
  {
   "cell_type": "code",
   "execution_count": 5,
   "id": "181fe39b",
   "metadata": {
    "ExecuteTime": {
     "end_time": "2023-11-24T00:37:03.930493Z",
     "start_time": "2023-11-24T00:37:03.926019Z"
    }
   },
   "outputs": [
    {
     "data": {
      "text/plain": [
       "'Life is too short, You need python'"
      ]
     },
     "execution_count": 5,
     "metadata": {},
     "output_type": "execute_result"
    }
   ],
   "source": [
    "a = \"Life is too short, You need python\"\n",
    "a"
   ]
  },
  {
   "cell_type": "code",
   "execution_count": 6,
   "id": "ff282ec3",
   "metadata": {
    "ExecuteTime": {
     "end_time": "2023-11-24T00:38:06.473322Z",
     "start_time": "2023-11-24T00:38:06.468268Z"
    }
   },
   "outputs": [
    {
     "data": {
      "text/plain": [
       "'e'"
      ]
     },
     "execution_count": 6,
     "metadata": {},
     "output_type": "execute_result"
    }
   ],
   "source": [
    "a[3]"
   ]
  },
  {
   "cell_type": "code",
   "execution_count": 7,
   "id": "0ab7de09",
   "metadata": {
    "ExecuteTime": {
     "end_time": "2023-11-24T00:38:30.944737Z",
     "start_time": "2023-11-24T00:38:30.939756Z"
    }
   },
   "outputs": [
    {
     "data": {
      "text/plain": [
       "'L'"
      ]
     },
     "execution_count": 7,
     "metadata": {},
     "output_type": "execute_result"
    }
   ],
   "source": [
    "a[0]"
   ]
  },
  {
   "cell_type": "code",
   "execution_count": 8,
   "id": "64c54ed6",
   "metadata": {
    "ExecuteTime": {
     "end_time": "2023-11-24T00:38:38.823678Z",
     "start_time": "2023-11-24T00:38:38.819483Z"
    }
   },
   "outputs": [
    {
     "data": {
      "text/plain": [
       "'s'"
      ]
     },
     "execution_count": 8,
     "metadata": {},
     "output_type": "execute_result"
    }
   ],
   "source": [
    "a[12]"
   ]
  },
  {
   "cell_type": "code",
   "execution_count": 9,
   "id": "09fc6239",
   "metadata": {
    "ExecuteTime": {
     "end_time": "2023-11-24T00:39:03.680081Z",
     "start_time": "2023-11-24T00:39:03.671129Z"
    }
   },
   "outputs": [
    {
     "data": {
      "text/plain": [
       "'n'"
      ]
     },
     "execution_count": 9,
     "metadata": {},
     "output_type": "execute_result"
    }
   ],
   "source": [
    "a[-1]"
   ]
  },
  {
   "cell_type": "code",
   "execution_count": 10,
   "id": "8fe8d922",
   "metadata": {
    "ExecuteTime": {
     "end_time": "2023-11-24T00:39:22.331176Z",
     "start_time": "2023-11-24T00:39:22.326431Z"
    }
   },
   "outputs": [
    {
     "data": {
      "text/plain": [
       "'L'"
      ]
     },
     "execution_count": 10,
     "metadata": {},
     "output_type": "execute_result"
    }
   ],
   "source": [
    "a[-0]"
   ]
  },
  {
   "cell_type": "code",
   "execution_count": 12,
   "id": "61923a8e",
   "metadata": {
    "ExecuteTime": {
     "end_time": "2023-11-24T00:39:50.371929Z",
     "start_time": "2023-11-24T00:39:50.363437Z"
    }
   },
   "outputs": [
    {
     "data": {
      "text/plain": [
       "'o'"
      ]
     },
     "execution_count": 12,
     "metadata": {},
     "output_type": "execute_result"
    }
   ],
   "source": [
    "a[-2]"
   ]
  },
  {
   "cell_type": "code",
   "execution_count": 13,
   "id": "dde7ee9f",
   "metadata": {
    "ExecuteTime": {
     "end_time": "2023-11-24T00:39:59.574597Z",
     "start_time": "2023-11-24T00:39:59.569166Z"
    }
   },
   "outputs": [
    {
     "data": {
      "text/plain": [
       "'y'"
      ]
     },
     "execution_count": 13,
     "metadata": {},
     "output_type": "execute_result"
    }
   ],
   "source": [
    "a[-5]"
   ]
  },
  {
   "cell_type": "markdown",
   "id": "9a71c7e5",
   "metadata": {},
   "source": [
    "## 슬라이싱\n",
    "* 범위 [start index : endindex+1] "
   ]
  },
  {
   "cell_type": "code",
   "execution_count": 14,
   "id": "9f34cb0e",
   "metadata": {
    "ExecuteTime": {
     "end_time": "2023-11-24T00:41:08.931485Z",
     "start_time": "2023-11-24T00:41:08.926677Z"
    }
   },
   "outputs": [
    {
     "data": {
      "text/plain": [
       "'Life is too short, You need python'"
      ]
     },
     "execution_count": 14,
     "metadata": {},
     "output_type": "execute_result"
    }
   ],
   "source": [
    "a"
   ]
  },
  {
   "cell_type": "code",
   "execution_count": 15,
   "id": "7ad346af",
   "metadata": {
    "ExecuteTime": {
     "end_time": "2023-11-24T00:41:20.726802Z",
     "start_time": "2023-11-24T00:41:20.720289Z"
    }
   },
   "outputs": [
    {
     "data": {
      "text/plain": [
       "'Life'"
      ]
     },
     "execution_count": 15,
     "metadata": {},
     "output_type": "execute_result"
    }
   ],
   "source": [
    "# life 요소를 잘라내기\n",
    "b = a[0] + a[1] + a[2] + a[3]\n",
    "b"
   ]
  },
  {
   "cell_type": "code",
   "execution_count": 16,
   "id": "1b533a9d",
   "metadata": {
    "ExecuteTime": {
     "end_time": "2023-11-24T00:41:37.174953Z",
     "start_time": "2023-11-24T00:41:37.170448Z"
    }
   },
   "outputs": [
    {
     "data": {
      "text/plain": [
       "'Life'"
      ]
     },
     "execution_count": 16,
     "metadata": {},
     "output_type": "execute_result"
    }
   ],
   "source": [
    "a[0:4]"
   ]
  },
  {
   "cell_type": "code",
   "execution_count": 18,
   "id": "18d855c5",
   "metadata": {
    "ExecuteTime": {
     "end_time": "2023-11-24T00:42:56.569948Z",
     "start_time": "2023-11-24T00:42:56.564523Z"
    }
   },
   "outputs": [
    {
     "data": {
      "text/plain": [
       "'Lif'"
      ]
     },
     "execution_count": 18,
     "metadata": {},
     "output_type": "execute_result"
    }
   ],
   "source": [
    "a[0:3]  # 0<= <3"
   ]
  },
  {
   "cell_type": "code",
   "execution_count": 17,
   "id": "3fdc6962",
   "metadata": {
    "ExecuteTime": {
     "end_time": "2023-11-24T00:42:34.880701Z",
     "start_time": "2023-11-24T00:42:34.875681Z"
    }
   },
   "outputs": [
    {
     "data": {
      "text/plain": [
       "'Life'"
      ]
     },
     "execution_count": 17,
     "metadata": {},
     "output_type": "execute_result"
    }
   ],
   "source": [
    "a[:4]"
   ]
  },
  {
   "cell_type": "code",
   "execution_count": 19,
   "id": "fe4ccf25",
   "metadata": {
    "ExecuteTime": {
     "end_time": "2023-11-24T00:43:16.206772Z",
     "start_time": "2023-11-24T00:43:16.201789Z"
    }
   },
   "outputs": [
    {
     "data": {
      "text/plain": [
       "'Life '"
      ]
     },
     "execution_count": 19,
     "metadata": {},
     "output_type": "execute_result"
    }
   ],
   "source": [
    "a[:5]"
   ]
  },
  {
   "cell_type": "code",
   "execution_count": 20,
   "id": "0aaa38f4",
   "metadata": {
    "ExecuteTime": {
     "end_time": "2023-11-24T00:43:30.411615Z",
     "start_time": "2023-11-24T00:43:30.405673Z"
    }
   },
   "outputs": [
    {
     "data": {
      "text/plain": [
       "'is'"
      ]
     },
     "execution_count": 20,
     "metadata": {},
     "output_type": "execute_result"
    }
   ],
   "source": [
    "a[5:7]"
   ]
  },
  {
   "cell_type": "code",
   "execution_count": 21,
   "id": "488c796d",
   "metadata": {
    "ExecuteTime": {
     "end_time": "2023-11-24T00:43:51.912562Z",
     "start_time": "2023-11-24T00:43:51.907803Z"
    }
   },
   "outputs": [
    {
     "data": {
      "text/plain": [
       "'short'"
      ]
     },
     "execution_count": 21,
     "metadata": {},
     "output_type": "execute_result"
    }
   ],
   "source": [
    "a[12:17]"
   ]
  },
  {
   "cell_type": "code",
   "execution_count": 22,
   "id": "27d04191",
   "metadata": {
    "ExecuteTime": {
     "end_time": "2023-11-24T00:43:59.344029Z",
     "start_time": "2023-11-24T00:43:59.339326Z"
    }
   },
   "outputs": [
    {
     "data": {
      "text/plain": [
       "'You need python'"
      ]
     },
     "execution_count": 22,
     "metadata": {},
     "output_type": "execute_result"
    }
   ],
   "source": [
    "a[19:]"
   ]
  },
  {
   "cell_type": "code",
   "execution_count": 23,
   "id": "025971d9",
   "metadata": {
    "ExecuteTime": {
     "end_time": "2023-11-24T00:44:14.860418Z",
     "start_time": "2023-11-24T00:44:14.855164Z"
    }
   },
   "outputs": [
    {
     "data": {
      "text/plain": [
       "'Life is too short, You need python'"
      ]
     },
     "execution_count": 23,
     "metadata": {},
     "output_type": "execute_result"
    }
   ],
   "source": [
    "a[:]"
   ]
  },
  {
   "cell_type": "code",
   "execution_count": 24,
   "id": "81a2702d",
   "metadata": {
    "ExecuteTime": {
     "end_time": "2023-11-24T00:44:26.025377Z",
     "start_time": "2023-11-24T00:44:26.020391Z"
    }
   },
   "outputs": [
    {
     "data": {
      "text/plain": [
       "'You need'"
      ]
     },
     "execution_count": 24,
     "metadata": {},
     "output_type": "execute_result"
    }
   ],
   "source": [
    "a[19:-7]"
   ]
  },
  {
   "cell_type": "code",
   "execution_count": 25,
   "id": "7d9be487",
   "metadata": {
    "ExecuteTime": {
     "end_time": "2023-11-24T00:44:58.386091Z",
     "start_time": "2023-11-24T00:44:58.380104Z"
    }
   },
   "outputs": [
    {
     "data": {
      "text/plain": [
       "'You need'"
      ]
     },
     "execution_count": 25,
     "metadata": {},
     "output_type": "execute_result"
    }
   ],
   "source": [
    "a[19:27]"
   ]
  },
  {
   "cell_type": "markdown",
   "id": "889c107d",
   "metadata": {},
   "source": [
    "## 슬라이싱으로 문자열 나누기"
   ]
  },
  {
   "cell_type": "code",
   "execution_count": 26,
   "id": "aecf133b",
   "metadata": {
    "ExecuteTime": {
     "end_time": "2023-11-24T00:47:27.463105Z",
     "start_time": "2023-11-24T00:47:27.459075Z"
    }
   },
   "outputs": [
    {
     "name": "stdout",
     "output_type": "stream",
     "text": [
      "20231124\n",
      "Sunny\n"
     ]
    }
   ],
   "source": [
    "a = \"20231124Sunny\"\n",
    "date = a[:8]\n",
    "weather = a[8:]\n",
    "print(date)\n",
    "print(weather)"
   ]
  },
  {
   "cell_type": "code",
   "execution_count": 29,
   "id": "8c756188",
   "metadata": {
    "ExecuteTime": {
     "end_time": "2023-11-24T00:49:38.407077Z",
     "start_time": "2023-11-24T00:49:38.401574Z"
    }
   },
   "outputs": [
    {
     "name": "stdout",
     "output_type": "stream",
     "text": [
      "2023\n",
      "1124\n",
      "Sunny\n"
     ]
    }
   ],
   "source": [
    "year = a[:4]\n",
    "day =a[4:8]\n",
    "weather = a[8:]\n",
    "print(year)\n",
    "print(day)\n",
    "print(weather)"
   ]
  },
  {
   "cell_type": "markdown",
   "id": "54aa166e",
   "metadata": {},
   "source": [
    "## 문자열 요소 바꾸기"
   ]
  },
  {
   "cell_type": "code",
   "execution_count": 30,
   "id": "3d9cd739",
   "metadata": {
    "ExecuteTime": {
     "end_time": "2023-11-24T00:50:06.069679Z",
     "start_time": "2023-11-24T00:50:06.063817Z"
    }
   },
   "outputs": [
    {
     "data": {
      "text/plain": [
       "'i'"
      ]
     },
     "execution_count": 30,
     "metadata": {},
     "output_type": "execute_result"
    }
   ],
   "source": [
    "a = \"pithon\"\n",
    "a[1]"
   ]
  },
  {
   "cell_type": "code",
   "execution_count": 31,
   "id": "5647087c",
   "metadata": {
    "ExecuteTime": {
     "end_time": "2023-11-24T01:01:27.419296Z",
     "start_time": "2023-11-24T01:01:27.393166Z"
    }
   },
   "outputs": [
    {
     "ename": "TypeError",
     "evalue": "'str' object does not support item assignment",
     "output_type": "error",
     "traceback": [
      "\u001b[1;31m---------------------------------------------------------------------------\u001b[0m",
      "\u001b[1;31mTypeError\u001b[0m                                 Traceback (most recent call last)",
      "Cell \u001b[1;32mIn[31], line 1\u001b[0m\n\u001b[1;32m----> 1\u001b[0m a[\u001b[38;5;241m1\u001b[39m] \u001b[38;5;241m=\u001b[39m \u001b[38;5;124m'\u001b[39m\u001b[38;5;124my\u001b[39m\u001b[38;5;124m'\u001b[39m\n",
      "\u001b[1;31mTypeError\u001b[0m: 'str' object does not support item assignment"
     ]
    }
   ],
   "source": [
    "a[1] = 'y'"
   ]
  },
  {
   "cell_type": "code",
   "execution_count": 32,
   "id": "1fe572d9",
   "metadata": {
    "ExecuteTime": {
     "end_time": "2023-11-24T01:01:59.697932Z",
     "start_time": "2023-11-24T01:01:59.692944Z"
    }
   },
   "outputs": [
    {
     "data": {
      "text/plain": [
       "'python'"
      ]
     },
     "execution_count": 32,
     "metadata": {},
     "output_type": "execute_result"
    }
   ],
   "source": [
    "a[0] + 'y' + a[2:]"
   ]
  },
  {
   "cell_type": "markdown",
   "id": "1c1ca9c8",
   "metadata": {},
   "source": [
    "## 문자열 포매팅\n",
    "* 현재 온도는 20도 입니다.\n",
    "* 현재 온도는 -3도 입니다."
   ]
  },
  {
   "cell_type": "code",
   "execution_count": 33,
   "id": "44bbceff",
   "metadata": {
    "ExecuteTime": {
     "end_time": "2023-11-24T01:08:52.523840Z",
     "start_time": "2023-11-24T01:08:52.515356Z"
    }
   },
   "outputs": [
    {
     "data": {
      "text/plain": [
       "'I eat 3 apples'"
      ]
     },
     "execution_count": 33,
     "metadata": {},
     "output_type": "execute_result"
    }
   ],
   "source": [
    "# 숫자 바로 대입하기\n",
    "\"I eat %d apples\"%3"
   ]
  },
  {
   "cell_type": "code",
   "execution_count": 35,
   "id": "a55075d2",
   "metadata": {
    "ExecuteTime": {
     "end_time": "2023-11-24T01:09:57.448426Z",
     "start_time": "2023-11-24T01:09:57.438734Z"
    }
   },
   "outputs": [
    {
     "data": {
      "text/plain": [
       "'I eat five apples'"
      ]
     },
     "execution_count": 35,
     "metadata": {},
     "output_type": "execute_result"
    }
   ],
   "source": [
    "# 문자열 대입하기\n",
    "\"I eat %s apples\"%\"five\""
   ]
  },
  {
   "cell_type": "code",
   "execution_count": 37,
   "id": "36d2c9df",
   "metadata": {
    "ExecuteTime": {
     "end_time": "2023-11-24T01:10:38.528883Z",
     "start_time": "2023-11-24T01:10:38.524163Z"
    }
   },
   "outputs": [
    {
     "data": {
      "text/plain": [
       "'I eat 3 apples'"
      ]
     },
     "execution_count": 37,
     "metadata": {},
     "output_type": "execute_result"
    }
   ],
   "source": [
    "# 변수로 대입하기\n",
    "number = 3\n",
    "\"I eat %d apples\"%number"
   ]
  },
  {
   "cell_type": "code",
   "execution_count": 38,
   "id": "23842cdd",
   "metadata": {
    "ExecuteTime": {
     "end_time": "2023-11-24T01:11:59.091892Z",
     "start_time": "2023-11-24T01:11:59.087746Z"
    }
   },
   "outputs": [
    {
     "data": {
      "text/plain": [
       "'I eat 3 apples. so i was sick for three days'"
      ]
     },
     "execution_count": 38,
     "metadata": {},
     "output_type": "execute_result"
    }
   ],
   "source": [
    "# 2개 이상 값 넣기\n",
    "number = 3\n",
    "day = \"three\"\n",
    "\"I eat %d apples. so i was sick for %s days\"%(number, day)"
   ]
  },
  {
   "cell_type": "markdown",
   "id": "13f65481",
   "metadata": {},
   "source": [
    "## 정렬과 공백\n",
    "* 양수 : 우정렬\n",
    "* 음수 : 좌정렬"
   ]
  },
  {
   "cell_type": "code",
   "execution_count": 39,
   "id": "ff2a5149",
   "metadata": {
    "ExecuteTime": {
     "end_time": "2023-11-24T01:13:47.333242Z",
     "start_time": "2023-11-24T01:13:47.327260Z"
    }
   },
   "outputs": [
    {
     "data": {
      "text/plain": [
       "'        hi'"
      ]
     },
     "execution_count": 39,
     "metadata": {},
     "output_type": "execute_result"
    }
   ],
   "source": [
    "# 10개의 문자열 공간을 만들되, 치환되는 문자열을 우측 정렬하고 빈곳은 공백으로 채우것\n",
    "\"%10s\"%\"hi\""
   ]
  },
  {
   "cell_type": "code",
   "execution_count": 40,
   "id": "dabcfc1b",
   "metadata": {
    "ExecuteTime": {
     "end_time": "2023-11-24T01:14:04.890235Z",
     "start_time": "2023-11-24T01:14:04.885635Z"
    }
   },
   "outputs": [
    {
     "data": {
      "text/plain": [
       "'hi        '"
      ]
     },
     "execution_count": 40,
     "metadata": {},
     "output_type": "execute_result"
    }
   ],
   "source": [
    "\"%-10s\"%\"hi\""
   ]
  },
  {
   "cell_type": "markdown",
   "id": "e358573b",
   "metadata": {},
   "source": [
    "## 소수점 표현하기"
   ]
  },
  {
   "cell_type": "code",
   "execution_count": 41,
   "id": "15f851a9",
   "metadata": {
    "ExecuteTime": {
     "end_time": "2023-11-24T01:14:48.795281Z",
     "start_time": "2023-11-24T01:14:48.790851Z"
    }
   },
   "outputs": [
    {
     "data": {
      "text/plain": [
       "'3.4213'"
      ]
     },
     "execution_count": 41,
     "metadata": {},
     "output_type": "execute_result"
    }
   ],
   "source": [
    "\"%0.4f\"%3.42134234"
   ]
  },
  {
   "cell_type": "markdown",
   "id": "fca3fc5a",
   "metadata": {},
   "source": [
    "## 포맷함수로를 사용한 포매팅"
   ]
  },
  {
   "cell_type": "code",
   "execution_count": 43,
   "id": "de4b12eb",
   "metadata": {
    "ExecuteTime": {
     "end_time": "2023-11-24T01:16:57.999831Z",
     "start_time": "2023-11-24T01:16:57.994943Z"
    }
   },
   "outputs": [
    {
     "data": {
      "text/plain": [
       "str"
      ]
     },
     "execution_count": 43,
     "metadata": {},
     "output_type": "execute_result"
    }
   ],
   "source": [
    "type(\"i ead {} apples\")"
   ]
  },
  {
   "cell_type": "code",
   "execution_count": 42,
   "id": "160894fd",
   "metadata": {
    "ExecuteTime": {
     "end_time": "2023-11-24T01:16:05.636139Z",
     "start_time": "2023-11-24T01:16:05.630424Z"
    }
   },
   "outputs": [
    {
     "data": {
      "text/plain": [
       "'i ead 3 apples'"
      ]
     },
     "execution_count": 42,
     "metadata": {},
     "output_type": "execute_result"
    }
   ],
   "source": [
    "\"i ead {} apples\".format(3)"
   ]
  },
  {
   "cell_type": "code",
   "execution_count": 44,
   "id": "0e0073ad",
   "metadata": {
    "ExecuteTime": {
     "end_time": "2023-11-24T01:17:53.107144Z",
     "start_time": "2023-11-24T01:17:53.102050Z"
    }
   },
   "outputs": [
    {
     "data": {
      "text/plain": [
       "'i ead five apples'"
      ]
     },
     "execution_count": 44,
     "metadata": {},
     "output_type": "execute_result"
    }
   ],
   "source": [
    "\"i ead {} apples\".format(\"five\")"
   ]
  },
  {
   "cell_type": "code",
   "execution_count": 45,
   "id": "0cadfd68",
   "metadata": {
    "ExecuteTime": {
     "end_time": "2023-11-24T01:18:09.030615Z",
     "start_time": "2023-11-24T01:18:09.025467Z"
    }
   },
   "outputs": [
    {
     "data": {
      "text/plain": [
       "'i ead 3 apples'"
      ]
     },
     "execution_count": 45,
     "metadata": {},
     "output_type": "execute_result"
    }
   ],
   "source": [
    "number = 3\n",
    "\"i ead {} apples\".format(number)"
   ]
  },
  {
   "cell_type": "code",
   "execution_count": 46,
   "id": "9d3adcf1",
   "metadata": {
    "ExecuteTime": {
     "end_time": "2023-11-24T01:19:01.533375Z",
     "start_time": "2023-11-24T01:19:01.527847Z"
    }
   },
   "outputs": [
    {
     "data": {
      "text/plain": [
       "'I eat 3 apples. so i was sick for three days'"
      ]
     },
     "execution_count": 46,
     "metadata": {},
     "output_type": "execute_result"
    }
   ],
   "source": [
    "# 2개 이상 넣기\n",
    "number = 3\n",
    "day = \"three\"\n",
    "'I eat {} apples. so i was sick for {} days'.format(number, day)"
   ]
  },
  {
   "cell_type": "code",
   "execution_count": 47,
   "id": "34d316b8",
   "metadata": {
    "ExecuteTime": {
     "end_time": "2023-11-24T01:20:00.096239Z",
     "start_time": "2023-11-24T01:20:00.091420Z"
    }
   },
   "outputs": [
    {
     "data": {
      "text/plain": [
       "'I eat 10 apples. so i was sick for 3 days'"
      ]
     },
     "execution_count": 47,
     "metadata": {},
     "output_type": "execute_result"
    }
   ],
   "source": [
    "# 변수 이름으로 넣기\n",
    "'I eat {number} apples. so i was sick for {day} days'.format(number=10, day=3)"
   ]
  },
  {
   "cell_type": "code",
   "execution_count": 48,
   "id": "34b85257",
   "metadata": {
    "ExecuteTime": {
     "end_time": "2023-11-24T01:20:12.014382Z",
     "start_time": "2023-11-24T01:20:12.009417Z"
    }
   },
   "outputs": [
    {
     "data": {
      "text/plain": [
       "'I eat 10 apples. so i was sick for 3 days'"
      ]
     },
     "execution_count": 48,
     "metadata": {},
     "output_type": "execute_result"
    }
   ],
   "source": [
    "'I eat {number} apples. so i was sick for {day} days'.format(day=3, number=10)"
   ]
  },
  {
   "cell_type": "code",
   "execution_count": 49,
   "id": "ad3026a2",
   "metadata": {
    "ExecuteTime": {
     "end_time": "2023-11-24T01:20:52.148740Z",
     "start_time": "2023-11-24T01:20:52.132557Z"
    }
   },
   "outputs": [
    {
     "ename": "IndexError",
     "evalue": "Replacement index 0 out of range for positional args tuple",
     "output_type": "error",
     "traceback": [
      "\u001b[1;31m---------------------------------------------------------------------------\u001b[0m",
      "\u001b[1;31mIndexError\u001b[0m                                Traceback (most recent call last)",
      "Cell \u001b[1;32mIn[49], line 1\u001b[0m\n\u001b[1;32m----> 1\u001b[0m \u001b[38;5;124m'\u001b[39m\u001b[38;5;124mI eat \u001b[39m\u001b[38;5;132;01m{}\u001b[39;00m\u001b[38;5;124m apples. so i was sick for \u001b[39m\u001b[38;5;132;01m{}\u001b[39;00m\u001b[38;5;124m days\u001b[39m\u001b[38;5;124m'\u001b[39m\u001b[38;5;241m.\u001b[39mformat(day\u001b[38;5;241m=\u001b[39m\u001b[38;5;241m3\u001b[39m, number\u001b[38;5;241m=\u001b[39m\u001b[38;5;241m10\u001b[39m)\n",
      "\u001b[1;31mIndexError\u001b[0m: Replacement index 0 out of range for positional args tuple"
     ]
    }
   ],
   "source": [
    "'I eat {} apples. so i was sick for {} days'.format(day=3, number=10)"
   ]
  },
  {
   "cell_type": "code",
   "execution_count": 50,
   "id": "aef4cef4",
   "metadata": {
    "ExecuteTime": {
     "end_time": "2023-11-24T01:21:17.309391Z",
     "start_time": "2023-11-24T01:21:17.298400Z"
    }
   },
   "outputs": [
    {
     "data": {
      "text/plain": [
       "'I eat 10 apples. so i was sick for 3 days'"
      ]
     },
     "execution_count": 50,
     "metadata": {},
     "output_type": "execute_result"
    }
   ],
   "source": [
    "'I eat {} apples. so i was sick for {} days'.format(3, number=10)"
   ]
  },
  {
   "cell_type": "markdown",
   "id": "b1b649e5",
   "metadata": {},
   "source": [
    "## f문자열 포매팅"
   ]
  },
  {
   "cell_type": "code",
   "execution_count": 51,
   "id": "f118c06c",
   "metadata": {
    "ExecuteTime": {
     "end_time": "2023-11-24T01:23:11.928765Z",
     "start_time": "2023-11-24T01:23:11.924340Z"
    }
   },
   "outputs": [
    {
     "data": {
      "text/plain": [
       "'나의 이름 홍길동입니다. 나이는 30입니다.'"
      ]
     },
     "execution_count": 51,
     "metadata": {},
     "output_type": "execute_result"
    }
   ],
   "source": [
    "# python 3.6\n",
    "name = '홍길동'\n",
    "age = 30\n",
    "f\"나의 이름 {name}입니다. 나이는 {age}입니다.\""
   ]
  },
  {
   "cell_type": "code",
   "execution_count": 53,
   "id": "09836d35",
   "metadata": {
    "ExecuteTime": {
     "end_time": "2023-11-24T01:23:58.489266Z",
     "start_time": "2023-11-24T01:23:58.484040Z"
    }
   },
   "outputs": [
    {
     "data": {
      "text/plain": [
       "'나는 내년이면 31살이 됩니다.'"
      ]
     },
     "execution_count": 53,
     "metadata": {},
     "output_type": "execute_result"
    }
   ],
   "source": [
    "f\"나는 내년이면 {age+1}살이 됩니다.\""
   ]
  },
  {
   "cell_type": "code",
   "execution_count": 55,
   "id": "a344bbd9",
   "metadata": {
    "ExecuteTime": {
     "end_time": "2023-11-24T01:27:52.629650Z",
     "start_time": "2023-11-24T01:27:52.619260Z"
    }
   },
   "outputs": [
    {
     "data": {
      "text/plain": [
       "'나의 이름은 홍길동입니다. 나이는 30입니다.'"
      ]
     },
     "execution_count": 55,
     "metadata": {},
     "output_type": "execute_result"
    }
   ],
   "source": [
    "d = {'name':'홍길동', 'age':30}\n",
    "f\"나의 이름은 {d['name']}입니다. 나이는 {d['age']}입니다.\""
   ]
  },
  {
   "cell_type": "code",
   "execution_count": 57,
   "id": "662e7c9f",
   "metadata": {
    "ExecuteTime": {
     "end_time": "2023-11-24T01:28:38.604907Z",
     "start_time": "2023-11-24T01:28:38.599292Z"
    }
   },
   "outputs": [
    {
     "data": {
      "text/plain": [
       "'3.4123'"
      ]
     },
     "execution_count": 57,
     "metadata": {},
     "output_type": "execute_result"
    }
   ],
   "source": [
    "y = 3.4123123\n",
    "f'{y:0.4f}'"
   ]
  },
  {
   "cell_type": "markdown",
   "id": "3db5b004",
   "metadata": {},
   "source": [
    "## 문자열 관련 함수"
   ]
  },
  {
   "cell_type": "code",
   "execution_count": 58,
   "id": "e9ac1719",
   "metadata": {
    "ExecuteTime": {
     "end_time": "2023-11-24T01:29:25.014603Z",
     "start_time": "2023-11-24T01:29:25.011328Z"
    }
   },
   "outputs": [],
   "source": [
    "# 문자열 개수 세기 (count)\n",
    "a = \"hobby\""
   ]
  },
  {
   "cell_type": "code",
   "execution_count": 59,
   "id": "5cd46ee4",
   "metadata": {
    "ExecuteTime": {
     "end_time": "2023-11-24T01:29:47.887308Z",
     "start_time": "2023-11-24T01:29:47.883001Z"
    }
   },
   "outputs": [
    {
     "data": {
      "text/plain": [
       "2"
      ]
     },
     "execution_count": 59,
     "metadata": {},
     "output_type": "execute_result"
    }
   ],
   "source": [
    "a.count('b')"
   ]
  },
  {
   "cell_type": "code",
   "execution_count": 61,
   "id": "6c586a9d",
   "metadata": {
    "ExecuteTime": {
     "end_time": "2023-11-24T01:32:25.478865Z",
     "start_time": "2023-11-24T01:32:25.474788Z"
    }
   },
   "outputs": [],
   "source": [
    "a.count?"
   ]
  },
  {
   "cell_type": "code",
   "execution_count": 62,
   "id": "fef7c1b7",
   "metadata": {
    "ExecuteTime": {
     "end_time": "2023-11-24T01:32:48.969783Z",
     "start_time": "2023-11-24T01:32:48.965237Z"
    }
   },
   "outputs": [
    {
     "name": "stdout",
     "output_type": "stream",
     "text": [
      "Help on built-in function count:\n",
      "\n",
      "count(...) method of builtins.str instance\n",
      "    S.count(sub[, start[, end]]) -> int\n",
      "    \n",
      "    Return the number of non-overlapping occurrences of substring sub in\n",
      "    string S[start:end].  Optional arguments start and end are\n",
      "    interpreted as in slice notation.\n",
      "\n"
     ]
    }
   ],
   "source": [
    "help(a.count)"
   ]
  },
  {
   "cell_type": "code",
   "execution_count": 65,
   "id": "2c8b7a2a",
   "metadata": {
    "ExecuteTime": {
     "end_time": "2023-11-24T01:35:29.423307Z",
     "start_time": "2023-11-24T01:35:29.419319Z"
    }
   },
   "outputs": [
    {
     "data": {
      "text/plain": [
       "14"
      ]
     },
     "execution_count": 65,
     "metadata": {},
     "output_type": "execute_result"
    }
   ],
   "source": [
    "a = 'python is the best choice'\n",
    "a.find('b')"
   ]
  },
  {
   "cell_type": "code",
   "execution_count": 66,
   "id": "7890bee7",
   "metadata": {
    "ExecuteTime": {
     "end_time": "2023-11-24T01:35:43.982105Z",
     "start_time": "2023-11-24T01:35:43.978108Z"
    }
   },
   "outputs": [
    {
     "data": {
      "text/plain": [
       "-1"
      ]
     },
     "execution_count": 66,
     "metadata": {},
     "output_type": "execute_result"
    }
   ],
   "source": [
    "a.find('k') # false = 0"
   ]
  },
  {
   "cell_type": "code",
   "execution_count": 67,
   "id": "21df698d",
   "metadata": {
    "ExecuteTime": {
     "end_time": "2023-11-24T01:36:22.224681Z",
     "start_time": "2023-11-24T01:36:22.220148Z"
    }
   },
   "outputs": [
    {
     "data": {
      "text/plain": [
       "2"
      ]
     },
     "execution_count": 67,
     "metadata": {},
     "output_type": "execute_result"
    }
   ],
   "source": [
    "a.index('t')"
   ]
  },
  {
   "cell_type": "code",
   "execution_count": 68,
   "id": "a187e35b",
   "metadata": {
    "ExecuteTime": {
     "end_time": "2023-11-24T01:36:45.301637Z",
     "start_time": "2023-11-24T01:36:45.279695Z"
    }
   },
   "outputs": [
    {
     "ename": "ValueError",
     "evalue": "substring not found",
     "output_type": "error",
     "traceback": [
      "\u001b[1;31m---------------------------------------------------------------------------\u001b[0m",
      "\u001b[1;31mValueError\u001b[0m                                Traceback (most recent call last)",
      "Cell \u001b[1;32mIn[68], line 1\u001b[0m\n\u001b[1;32m----> 1\u001b[0m a\u001b[38;5;241m.\u001b[39mindex(\u001b[38;5;124m'\u001b[39m\u001b[38;5;124mk\u001b[39m\u001b[38;5;124m'\u001b[39m)\n",
      "\u001b[1;31mValueError\u001b[0m: substring not found"
     ]
    }
   ],
   "source": [
    "a.index('k')"
   ]
  },
  {
   "cell_type": "markdown",
   "id": "734d2857",
   "metadata": {},
   "source": [
    "## 문자열 삽입(join)"
   ]
  },
  {
   "cell_type": "code",
   "execution_count": 69,
   "id": "b585191c",
   "metadata": {
    "ExecuteTime": {
     "end_time": "2023-11-24T01:38:52.624621Z",
     "start_time": "2023-11-24T01:38:52.619729Z"
    }
   },
   "outputs": [
    {
     "data": {
      "text/plain": [
       "'a,b,c,d'"
      ]
     },
     "execution_count": 69,
     "metadata": {},
     "output_type": "execute_result"
    }
   ],
   "source": [
    "# a, b, c, d 문자열 사이에 , 를 삽입\n",
    "\",\".join('abcd')"
   ]
  },
  {
   "cell_type": "code",
   "execution_count": 71,
   "id": "93f8d65c",
   "metadata": {
    "ExecuteTime": {
     "end_time": "2023-11-24T01:39:53.403393Z",
     "start_time": "2023-11-24T01:39:53.397415Z"
    }
   },
   "outputs": [
    {
     "data": {
      "text/plain": [
       "'a,b,c,d'"
      ]
     },
     "execution_count": 71,
     "metadata": {},
     "output_type": "execute_result"
    }
   ],
   "source": [
    "a = ','\n",
    "a.join('abcd')"
   ]
  },
  {
   "cell_type": "code",
   "execution_count": 70,
   "id": "be665604",
   "metadata": {
    "ExecuteTime": {
     "end_time": "2023-11-24T01:39:16.040243Z",
     "start_time": "2023-11-24T01:39:16.036172Z"
    }
   },
   "outputs": [
    {
     "data": {
      "text/plain": [
       "'a,b,c,d'"
      ]
     },
     "execution_count": 70,
     "metadata": {},
     "output_type": "execute_result"
    }
   ],
   "source": [
    "\",\".join(['a', 'b', 'c', 'd'])"
   ]
  },
  {
   "cell_type": "markdown",
   "id": "75a2aa02",
   "metadata": {},
   "source": [
    "## 대소문자 변환(upper, lower)"
   ]
  },
  {
   "cell_type": "code",
   "execution_count": 72,
   "id": "3a87e3b5",
   "metadata": {
    "ExecuteTime": {
     "end_time": "2023-11-24T01:40:40.032789Z",
     "start_time": "2023-11-24T01:40:40.026817Z"
    }
   },
   "outputs": [
    {
     "data": {
      "text/plain": [
       "'HI'"
      ]
     },
     "execution_count": 72,
     "metadata": {},
     "output_type": "execute_result"
    }
   ],
   "source": [
    "# 소문자를 대문자로 바꾸기\n",
    "a = 'hi'\n",
    "a.upper()"
   ]
  },
  {
   "cell_type": "code",
   "execution_count": 73,
   "id": "3b866d4d",
   "metadata": {
    "ExecuteTime": {
     "end_time": "2023-11-24T01:40:46.134789Z",
     "start_time": "2023-11-24T01:40:46.130237Z"
    }
   },
   "outputs": [
    {
     "data": {
      "text/plain": [
       "'HI'"
      ]
     },
     "execution_count": 73,
     "metadata": {},
     "output_type": "execute_result"
    }
   ],
   "source": [
    "'hi'.upper()"
   ]
  },
  {
   "cell_type": "code",
   "execution_count": 74,
   "id": "42ee0ff5",
   "metadata": {
    "ExecuteTime": {
     "end_time": "2023-11-24T01:41:10.321011Z",
     "start_time": "2023-11-24T01:41:10.317230Z"
    }
   },
   "outputs": [
    {
     "data": {
      "text/plain": [
       "'hi'"
      ]
     },
     "execution_count": 74,
     "metadata": {},
     "output_type": "execute_result"
    }
   ],
   "source": [
    "# 대문자를 소문자로 바꾸기\n",
    "a = \"HI\"\n",
    "a.lower()"
   ]
  },
  {
   "cell_type": "markdown",
   "id": "d9b20728",
   "metadata": {},
   "source": [
    "## 공백 지우기(strip)"
   ]
  },
  {
   "cell_type": "code",
   "execution_count": 75,
   "id": "9c6ae4f1",
   "metadata": {
    "ExecuteTime": {
     "end_time": "2023-11-24T01:41:54.723507Z",
     "start_time": "2023-11-24T01:41:54.713841Z"
    }
   },
   "outputs": [
    {
     "data": {
      "text/plain": [
       "'hi   '"
      ]
     },
     "execution_count": 75,
     "metadata": {},
     "output_type": "execute_result"
    }
   ],
   "source": [
    "# 왼쪽 공백 지우기\n",
    "a = \"   hi   \"\n",
    "a.lstrip()"
   ]
  },
  {
   "cell_type": "code",
   "execution_count": 76,
   "id": "c09d44bd",
   "metadata": {
    "ExecuteTime": {
     "end_time": "2023-11-24T01:42:11.740563Z",
     "start_time": "2023-11-24T01:42:11.736698Z"
    }
   },
   "outputs": [
    {
     "data": {
      "text/plain": [
       "'   hi'"
      ]
     },
     "execution_count": 76,
     "metadata": {},
     "output_type": "execute_result"
    }
   ],
   "source": [
    "a.rstrip()"
   ]
  },
  {
   "cell_type": "code",
   "execution_count": 77,
   "id": "470f8e67",
   "metadata": {
    "ExecuteTime": {
     "end_time": "2023-11-24T01:42:18.286858Z",
     "start_time": "2023-11-24T01:42:18.281229Z"
    }
   },
   "outputs": [
    {
     "data": {
      "text/plain": [
       "'hi'"
      ]
     },
     "execution_count": 77,
     "metadata": {},
     "output_type": "execute_result"
    }
   ],
   "source": [
    "a.strip()"
   ]
  },
  {
   "cell_type": "markdown",
   "id": "dc25f580",
   "metadata": {},
   "source": [
    "## 문자열 바꾸기(replace)"
   ]
  },
  {
   "cell_type": "code",
   "execution_count": 78,
   "id": "c4e254f0",
   "metadata": {
    "ExecuteTime": {
     "end_time": "2023-11-24T01:44:52.642937Z",
     "start_time": "2023-11-24T01:44:52.637945Z"
    }
   },
   "outputs": [
    {
     "data": {
      "text/plain": [
       "'Your leg is too short'"
      ]
     },
     "execution_count": 78,
     "metadata": {},
     "output_type": "execute_result"
    }
   ],
   "source": [
    "a = \"Life is too short\"\n",
    "a.replace(\"Life\", 'Your leg')"
   ]
  },
  {
   "cell_type": "code",
   "execution_count": 79,
   "id": "1e87e35c",
   "metadata": {
    "ExecuteTime": {
     "end_time": "2023-11-24T01:45:08.239619Z",
     "start_time": "2023-11-24T01:45:08.233656Z"
    }
   },
   "outputs": [],
   "source": [
    "a.replace?"
   ]
  },
  {
   "cell_type": "markdown",
   "id": "89cb7bd5",
   "metadata": {},
   "source": [
    "## 문자열 나누기(split)"
   ]
  },
  {
   "cell_type": "code",
   "execution_count": 80,
   "id": "37545bea",
   "metadata": {
    "ExecuteTime": {
     "end_time": "2023-11-24T01:46:14.949464Z",
     "start_time": "2023-11-24T01:46:14.945334Z"
    }
   },
   "outputs": [
    {
     "data": {
      "text/plain": [
       "'Life is too short'"
      ]
     },
     "execution_count": 80,
     "metadata": {},
     "output_type": "execute_result"
    }
   ],
   "source": [
    "a"
   ]
  },
  {
   "cell_type": "code",
   "execution_count": 81,
   "id": "3dc92e40",
   "metadata": {
    "ExecuteTime": {
     "end_time": "2023-11-24T01:46:20.393748Z",
     "start_time": "2023-11-24T01:46:20.388931Z"
    }
   },
   "outputs": [
    {
     "data": {
      "text/plain": [
       "['Life', 'is', 'too', 'short']"
      ]
     },
     "execution_count": 81,
     "metadata": {},
     "output_type": "execute_result"
    }
   ],
   "source": [
    "a.split()"
   ]
  },
  {
   "cell_type": "code",
   "execution_count": 82,
   "id": "eabcaf50",
   "metadata": {
    "ExecuteTime": {
     "end_time": "2023-11-24T01:46:37.649040Z",
     "start_time": "2023-11-24T01:46:37.646072Z"
    }
   },
   "outputs": [],
   "source": [
    "b = 'a:b:c:d'"
   ]
  },
  {
   "cell_type": "code",
   "execution_count": 83,
   "id": "13f2bf03",
   "metadata": {
    "ExecuteTime": {
     "end_time": "2023-11-24T01:46:51.450765Z",
     "start_time": "2023-11-24T01:46:51.446265Z"
    }
   },
   "outputs": [
    {
     "data": {
      "text/plain": [
       "['a', 'b', 'c', 'd']"
      ]
     },
     "execution_count": 83,
     "metadata": {},
     "output_type": "execute_result"
    }
   ],
   "source": [
    "b.split(\":\")"
   ]
  },
  {
   "cell_type": "code",
   "execution_count": 84,
   "id": "b7c2e7a7",
   "metadata": {
    "ExecuteTime": {
     "end_time": "2023-11-24T01:47:02.902528Z",
     "start_time": "2023-11-24T01:47:02.896546Z"
    }
   },
   "outputs": [],
   "source": [
    "a.split?"
   ]
  },
  {
   "cell_type": "code",
   "execution_count": 85,
   "id": "87e65738",
   "metadata": {
    "ExecuteTime": {
     "end_time": "2023-11-24T01:47:34.759214Z",
     "start_time": "2023-11-24T01:47:34.749339Z"
    }
   },
   "outputs": [
    {
     "data": {
      "text/plain": [
       "'Life is too short'"
      ]
     },
     "execution_count": 85,
     "metadata": {},
     "output_type": "execute_result"
    }
   ],
   "source": [
    "a "
   ]
  },
  {
   "cell_type": "code",
   "execution_count": 86,
   "id": "f07bdfa0",
   "metadata": {
    "ExecuteTime": {
     "end_time": "2023-11-24T01:47:49.397093Z",
     "start_time": "2023-11-24T01:47:49.391530Z"
    }
   },
   "outputs": [
    {
     "data": {
      "text/plain": [
       "['Life', 'is', 'too', 'short']"
      ]
     },
     "execution_count": 86,
     "metadata": {},
     "output_type": "execute_result"
    }
   ],
   "source": [
    "a1 = a.split()\n",
    "a1"
   ]
  },
  {
   "cell_type": "code",
   "execution_count": 87,
   "id": "e97cd670",
   "metadata": {
    "ExecuteTime": {
     "end_time": "2023-11-24T01:49:01.414973Z",
     "start_time": "2023-11-24T01:49:01.407267Z"
    }
   },
   "outputs": [
    {
     "data": {
      "text/plain": [
       "'Life is too short'"
      ]
     },
     "execution_count": 87,
     "metadata": {},
     "output_type": "execute_result"
    }
   ],
   "source": [
    "' '.join(a1)"
   ]
  },
  {
   "cell_type": "markdown",
   "id": "99052bc4",
   "metadata": {},
   "source": [
    "## 리스트"
   ]
  },
  {
   "cell_type": "code",
   "execution_count": 90,
   "id": "e6a120bd",
   "metadata": {
    "ExecuteTime": {
     "end_time": "2023-11-24T02:02:35.077868Z",
     "start_time": "2023-11-24T02:02:35.063010Z"
    }
   },
   "outputs": [
    {
     "data": {
      "text/plain": [
       "([1, 3, 5, 7, 9], list)"
      ]
     },
     "execution_count": 90,
     "metadata": {},
     "output_type": "execute_result"
    }
   ],
   "source": [
    "odd = [1, 3, 5, 7, 9]\n",
    "odd, type(odd)"
   ]
  },
  {
   "cell_type": "code",
   "execution_count": 91,
   "id": "3e97c4c6",
   "metadata": {
    "ExecuteTime": {
     "end_time": "2023-11-24T02:05:00.080801Z",
     "start_time": "2023-11-24T02:05:00.075814Z"
    },
    "scrolled": true
   },
   "outputs": [
    {
     "name": "stdout",
     "output_type": "stream",
     "text": [
      "[] [1, 2, 3] ['Life', 'is', 'too', 'short'] [1, 2, 'Life', 'is'] [1, 2, ['Life', 'is']]\n",
      "<class 'list'> <class 'list'> <class 'list'> <class 'list'> <class 'list'>\n"
     ]
    }
   ],
   "source": [
    "a = []\n",
    "b = [1, 2, 3]\n",
    "c = ['Life', 'is', 'too', 'short']\n",
    "d = [1, 2, 'Life', 'is']\n",
    "e = [1, 2, ['Life', 'is'] ]\n",
    "print(a, b, c, d, e)\n",
    "print(type(a), type(b), type(c), type(d), type(e))"
   ]
  },
  {
   "cell_type": "code",
   "execution_count": 92,
   "id": "3aa11112",
   "metadata": {
    "ExecuteTime": {
     "end_time": "2023-11-24T02:05:48.895509Z",
     "start_time": "2023-11-24T02:05:48.891064Z"
    }
   },
   "outputs": [
    {
     "data": {
      "text/plain": [
       "(4, 3)"
      ]
     },
     "execution_count": 92,
     "metadata": {},
     "output_type": "execute_result"
    }
   ],
   "source": [
    "len(d), len(e)"
   ]
  },
  {
   "cell_type": "code",
   "execution_count": 93,
   "id": "cf8541ca",
   "metadata": {
    "ExecuteTime": {
     "end_time": "2023-11-24T02:06:16.888541Z",
     "start_time": "2023-11-24T02:06:16.880684Z"
    }
   },
   "outputs": [
    {
     "data": {
      "text/plain": [
       "['Life', 'is']"
      ]
     },
     "execution_count": 93,
     "metadata": {},
     "output_type": "execute_result"
    }
   ],
   "source": [
    "e[2]"
   ]
  },
  {
   "cell_type": "markdown",
   "id": "d6a28ce9",
   "metadata": {},
   "source": [
    "## 인덱싱과 슬라이싱"
   ]
  },
  {
   "cell_type": "code",
   "execution_count": 94,
   "id": "ebe9947c",
   "metadata": {
    "ExecuteTime": {
     "end_time": "2023-11-24T02:07:02.404567Z",
     "start_time": "2023-11-24T02:07:02.399195Z"
    }
   },
   "outputs": [
    {
     "data": {
      "text/plain": [
       "[1, 2, 3]"
      ]
     },
     "execution_count": 94,
     "metadata": {},
     "output_type": "execute_result"
    }
   ],
   "source": [
    "a = [1, 2, 3]\n",
    "a"
   ]
  },
  {
   "cell_type": "code",
   "execution_count": 95,
   "id": "b181ab11",
   "metadata": {
    "ExecuteTime": {
     "end_time": "2023-11-24T02:07:12.744968Z",
     "start_time": "2023-11-24T02:07:12.740008Z"
    }
   },
   "outputs": [
    {
     "data": {
      "text/plain": [
       "1"
      ]
     },
     "execution_count": 95,
     "metadata": {},
     "output_type": "execute_result"
    }
   ],
   "source": [
    "a[0]"
   ]
  },
  {
   "cell_type": "code",
   "execution_count": 96,
   "id": "887914db",
   "metadata": {
    "ExecuteTime": {
     "end_time": "2023-11-24T02:07:25.693707Z",
     "start_time": "2023-11-24T02:07:25.688849Z"
    }
   },
   "outputs": [
    {
     "data": {
      "text/plain": [
       "int"
      ]
     },
     "execution_count": 96,
     "metadata": {},
     "output_type": "execute_result"
    }
   ],
   "source": [
    "type(a[0])"
   ]
  },
  {
   "cell_type": "code",
   "execution_count": 97,
   "id": "2c06c429",
   "metadata": {
    "ExecuteTime": {
     "end_time": "2023-11-24T02:07:45.379903Z",
     "start_time": "2023-11-24T02:07:45.375377Z"
    }
   },
   "outputs": [
    {
     "data": {
      "text/plain": [
       "3"
      ]
     },
     "execution_count": 97,
     "metadata": {},
     "output_type": "execute_result"
    }
   ],
   "source": [
    "a[0] * a[2]"
   ]
  },
  {
   "cell_type": "code",
   "execution_count": 98,
   "id": "b2b7bc44",
   "metadata": {
    "ExecuteTime": {
     "end_time": "2023-11-24T02:07:57.375362Z",
     "start_time": "2023-11-24T02:07:57.371126Z"
    }
   },
   "outputs": [
    {
     "data": {
      "text/plain": [
       "3"
      ]
     },
     "execution_count": 98,
     "metadata": {},
     "output_type": "execute_result"
    }
   ],
   "source": [
    "a[-1]"
   ]
  },
  {
   "cell_type": "code",
   "execution_count": 99,
   "id": "656d3794",
   "metadata": {
    "ExecuteTime": {
     "end_time": "2023-11-24T02:08:22.102391Z",
     "start_time": "2023-11-24T02:08:22.098413Z"
    }
   },
   "outputs": [
    {
     "data": {
      "text/plain": [
       "1"
      ]
     },
     "execution_count": 99,
     "metadata": {},
     "output_type": "execute_result"
    }
   ],
   "source": [
    "b = [1, 2, 3, ['a', 'b', 'c']]\n",
    "b[0]"
   ]
  },
  {
   "cell_type": "code",
   "execution_count": 100,
   "id": "6a35a42d",
   "metadata": {
    "ExecuteTime": {
     "end_time": "2023-11-24T02:08:30.424175Z",
     "start_time": "2023-11-24T02:08:30.419308Z"
    }
   },
   "outputs": [
    {
     "data": {
      "text/plain": [
       "['a', 'b', 'c']"
      ]
     },
     "execution_count": 100,
     "metadata": {},
     "output_type": "execute_result"
    }
   ],
   "source": [
    "b[-1]"
   ]
  },
  {
   "cell_type": "code",
   "execution_count": 101,
   "id": "ea793381",
   "metadata": {
    "ExecuteTime": {
     "end_time": "2023-11-24T02:08:38.906852Z",
     "start_time": "2023-11-24T02:08:38.902246Z"
    }
   },
   "outputs": [
    {
     "data": {
      "text/plain": [
       "['a', 'b', 'c']"
      ]
     },
     "execution_count": 101,
     "metadata": {},
     "output_type": "execute_result"
    }
   ],
   "source": [
    "b[3]"
   ]
  },
  {
   "cell_type": "code",
   "execution_count": 102,
   "id": "44679c95",
   "metadata": {
    "ExecuteTime": {
     "end_time": "2023-11-24T02:09:09.606262Z",
     "start_time": "2023-11-24T02:09:09.601666Z"
    }
   },
   "outputs": [
    {
     "data": {
      "text/plain": [
       "'a'"
      ]
     },
     "execution_count": 102,
     "metadata": {},
     "output_type": "execute_result"
    }
   ],
   "source": [
    "b[3][0]"
   ]
  },
  {
   "cell_type": "code",
   "execution_count": 103,
   "id": "1b4b1f77",
   "metadata": {
    "ExecuteTime": {
     "end_time": "2023-11-24T02:09:17.945717Z",
     "start_time": "2023-11-24T02:09:17.940216Z"
    }
   },
   "outputs": [
    {
     "data": {
      "text/plain": [
       "'b'"
      ]
     },
     "execution_count": 103,
     "metadata": {},
     "output_type": "execute_result"
    }
   ],
   "source": [
    "b[-1][1]"
   ]
  },
  {
   "cell_type": "code",
   "execution_count": 105,
   "id": "82bdd0f6",
   "metadata": {
    "ExecuteTime": {
     "end_time": "2023-11-24T02:10:03.195368Z",
     "start_time": "2023-11-24T02:10:03.189061Z"
    }
   },
   "outputs": [
    {
     "data": {
      "text/plain": [
       "[1, 2, ['a', 'b', ['Life', 'is']]]"
      ]
     },
     "execution_count": 105,
     "metadata": {},
     "output_type": "execute_result"
    }
   ],
   "source": [
    "c = [1, 2, ['a', 'b', ['Life', 'is']]]\n",
    "c"
   ]
  },
  {
   "cell_type": "code",
   "execution_count": 106,
   "id": "6b0e8cb0",
   "metadata": {
    "ExecuteTime": {
     "end_time": "2023-11-24T02:10:29.341696Z",
     "start_time": "2023-11-24T02:10:29.337103Z"
    }
   },
   "outputs": [
    {
     "data": {
      "text/plain": [
       "'Life'"
      ]
     },
     "execution_count": 106,
     "metadata": {},
     "output_type": "execute_result"
    }
   ],
   "source": [
    "c[2][2][0]"
   ]
  },
  {
   "cell_type": "code",
   "execution_count": 108,
   "id": "eaafd6da",
   "metadata": {
    "ExecuteTime": {
     "end_time": "2023-11-24T02:10:58.391422Z",
     "start_time": "2023-11-24T02:10:58.386436Z"
    }
   },
   "outputs": [
    {
     "data": {
      "text/plain": [
       "'Life'"
      ]
     },
     "execution_count": 108,
     "metadata": {},
     "output_type": "execute_result"
    }
   ],
   "source": [
    "c[-1][-1][0]"
   ]
  },
  {
   "cell_type": "code",
   "execution_count": 109,
   "id": "22cabba4",
   "metadata": {
    "ExecuteTime": {
     "end_time": "2023-11-24T02:21:40.889343Z",
     "start_time": "2023-11-24T02:21:40.879367Z"
    }
   },
   "outputs": [
    {
     "data": {
      "text/plain": [
       "[1, 2]"
      ]
     },
     "execution_count": 109,
     "metadata": {},
     "output_type": "execute_result"
    }
   ],
   "source": [
    "a = [1, 2, 3, 4, 5]\n",
    "a[0:2]"
   ]
  },
  {
   "cell_type": "code",
   "execution_count": 110,
   "id": "f32ffc87",
   "metadata": {
    "ExecuteTime": {
     "end_time": "2023-11-24T02:21:54.128496Z",
     "start_time": "2023-11-24T02:21:54.123785Z"
    }
   },
   "outputs": [
    {
     "data": {
      "text/plain": [
       "'12'"
      ]
     },
     "execution_count": 110,
     "metadata": {},
     "output_type": "execute_result"
    }
   ],
   "source": [
    "a = \"12345\"\n",
    "a[0:2]"
   ]
  },
  {
   "cell_type": "code",
   "execution_count": 111,
   "id": "fffe4809",
   "metadata": {
    "ExecuteTime": {
     "end_time": "2023-11-24T02:22:26.054895Z",
     "start_time": "2023-11-24T02:22:26.050977Z"
    }
   },
   "outputs": [
    {
     "name": "stdout",
     "output_type": "stream",
     "text": [
      "[1, 2] [3, 4, 5]\n"
     ]
    }
   ],
   "source": [
    "a = [1, 2, 3, 4, 5]\n",
    "b = a[:2]\n",
    "c = a[2:]\n",
    "print(b, c)"
   ]
  },
  {
   "cell_type": "code",
   "execution_count": 112,
   "id": "f099d3ba",
   "metadata": {
    "ExecuteTime": {
     "end_time": "2023-11-24T02:22:59.360338Z",
     "start_time": "2023-11-24T02:22:59.354356Z"
    }
   },
   "outputs": [
    {
     "data": {
      "text/plain": [
       "[1, 2, 3, ['a', 'b', 'c'], 4, 5]"
      ]
     },
     "execution_count": 112,
     "metadata": {},
     "output_type": "execute_result"
    }
   ],
   "source": [
    "a = [1, 2 ,3, ['a', 'b', 'c'], 4, 5]\n",
    "a"
   ]
  },
  {
   "cell_type": "code",
   "execution_count": 113,
   "id": "6af06ce5",
   "metadata": {
    "ExecuteTime": {
     "end_time": "2023-11-24T02:23:07.419229Z",
     "start_time": "2023-11-24T02:23:07.413732Z"
    }
   },
   "outputs": [
    {
     "data": {
      "text/plain": [
       "[3, ['a', 'b', 'c'], 4]"
      ]
     },
     "execution_count": 113,
     "metadata": {},
     "output_type": "execute_result"
    }
   ],
   "source": [
    "a[2:5]"
   ]
  },
  {
   "cell_type": "code",
   "execution_count": 115,
   "id": "490822b3",
   "metadata": {
    "ExecuteTime": {
     "end_time": "2023-11-24T02:23:44.381314Z",
     "start_time": "2023-11-24T02:23:44.376811Z"
    }
   },
   "outputs": [
    {
     "data": {
      "text/plain": [
       "['a', 'b']"
      ]
     },
     "execution_count": 115,
     "metadata": {},
     "output_type": "execute_result"
    }
   ],
   "source": [
    "a[3][:2]"
   ]
  },
  {
   "cell_type": "code",
   "execution_count": 116,
   "id": "6724629c",
   "metadata": {
    "ExecuteTime": {
     "end_time": "2023-11-24T02:24:20.458038Z",
     "start_time": "2023-11-24T02:24:20.452916Z"
    }
   },
   "outputs": [
    {
     "data": {
      "text/plain": [
       "[1, 2, 3, 4, 5, 6]"
      ]
     },
     "execution_count": 116,
     "metadata": {},
     "output_type": "execute_result"
    }
   ],
   "source": [
    "# 리스트 연산하기\n",
    "a = [1, 2, 3]\n",
    "b = [4, 5, 6]\n",
    "a + b"
   ]
  },
  {
   "cell_type": "code",
   "execution_count": 117,
   "id": "729fc072",
   "metadata": {
    "ExecuteTime": {
     "end_time": "2023-11-24T02:25:00.061058Z",
     "start_time": "2023-11-24T02:25:00.056072Z"
    }
   },
   "outputs": [
    {
     "data": {
      "text/plain": [
       "[1, 2, 3, 1, 2, 3, 1, 2, 3]"
      ]
     },
     "execution_count": 117,
     "metadata": {},
     "output_type": "execute_result"
    }
   ],
   "source": [
    "# 리스트 반복하기\n",
    "a * 3"
   ]
  },
  {
   "cell_type": "code",
   "execution_count": 118,
   "id": "80521fb7",
   "metadata": {
    "ExecuteTime": {
     "end_time": "2023-11-24T02:25:10.611793Z",
     "start_time": "2023-11-24T02:25:10.607756Z"
    }
   },
   "outputs": [
    {
     "data": {
      "text/plain": [
       "3"
      ]
     },
     "execution_count": 118,
     "metadata": {},
     "output_type": "execute_result"
    }
   ],
   "source": [
    "# 리스트 길이 구하기\n",
    "len(a)"
   ]
  },
  {
   "cell_type": "markdown",
   "id": "b4cc0ad7",
   "metadata": {},
   "source": [
    "## 리스트 수정과 삭제"
   ]
  },
  {
   "cell_type": "code",
   "execution_count": 119,
   "id": "30b80040",
   "metadata": {
    "ExecuteTime": {
     "end_time": "2023-11-24T02:26:07.765865Z",
     "start_time": "2023-11-24T02:26:07.761115Z"
    }
   },
   "outputs": [
    {
     "data": {
      "text/plain": [
       "[1, 2, 4]"
      ]
     },
     "execution_count": 119,
     "metadata": {},
     "output_type": "execute_result"
    }
   ],
   "source": [
    "a = [1, 2, 3]\n",
    "a[2] = 4\n",
    "a"
   ]
  },
  {
   "cell_type": "code",
   "execution_count": 120,
   "id": "daa95bc8",
   "metadata": {
    "ExecuteTime": {
     "end_time": "2023-11-24T02:26:30.701119Z",
     "start_time": "2023-11-24T02:26:30.698377Z"
    }
   },
   "outputs": [],
   "source": [
    "# del 함수\n",
    "a = [1, 2, 3]\n",
    "del a[1]"
   ]
  },
  {
   "cell_type": "code",
   "execution_count": 121,
   "id": "e7e3d44e",
   "metadata": {
    "ExecuteTime": {
     "end_time": "2023-11-24T02:26:33.284762Z",
     "start_time": "2023-11-24T02:26:33.275733Z"
    }
   },
   "outputs": [
    {
     "data": {
      "text/plain": [
       "[1, 3]"
      ]
     },
     "execution_count": 121,
     "metadata": {},
     "output_type": "execute_result"
    }
   ],
   "source": [
    "a"
   ]
  },
  {
   "cell_type": "code",
   "execution_count": 122,
   "id": "c9ca0d1d",
   "metadata": {
    "ExecuteTime": {
     "end_time": "2023-11-24T02:26:56.121049Z",
     "start_time": "2023-11-24T02:26:56.115539Z"
    }
   },
   "outputs": [
    {
     "data": {
      "text/plain": [
       "[1, 2]"
      ]
     },
     "execution_count": 122,
     "metadata": {},
     "output_type": "execute_result"
    }
   ],
   "source": [
    "a = [1, 2, 3, 4, 5]\n",
    "del a[2:]\n",
    "a"
   ]
  },
  {
   "cell_type": "markdown",
   "id": "29c39488",
   "metadata": {},
   "source": [
    "## 리스트 관련 함수\n",
    "* 요소 추가(append)"
   ]
  },
  {
   "cell_type": "code",
   "execution_count": 125,
   "id": "80d7ad13",
   "metadata": {
    "ExecuteTime": {
     "end_time": "2023-11-24T02:29:00.379252Z",
     "start_time": "2023-11-24T02:29:00.374264Z"
    }
   },
   "outputs": [
    {
     "data": {
      "text/plain": [
       "[1, 2, 3, 4]"
      ]
     },
     "execution_count": 125,
     "metadata": {},
     "output_type": "execute_result"
    }
   ],
   "source": [
    "a = [1, 2, 3]\n",
    "a.append(4)\n",
    "a"
   ]
  },
  {
   "cell_type": "code",
   "execution_count": 126,
   "id": "c5d4d336",
   "metadata": {
    "ExecuteTime": {
     "end_time": "2023-11-24T02:29:18.658905Z",
     "start_time": "2023-11-24T02:29:18.655915Z"
    }
   },
   "outputs": [],
   "source": [
    "a.append([5, 6])"
   ]
  },
  {
   "cell_type": "code",
   "execution_count": 127,
   "id": "34e7fa1b",
   "metadata": {
    "ExecuteTime": {
     "end_time": "2023-11-24T02:29:21.318198Z",
     "start_time": "2023-11-24T02:29:21.309972Z"
    }
   },
   "outputs": [
    {
     "data": {
      "text/plain": [
       "[1, 2, 3, 4, [5, 6]]"
      ]
     },
     "execution_count": 127,
     "metadata": {},
     "output_type": "execute_result"
    }
   ],
   "source": [
    "a"
   ]
  },
  {
   "cell_type": "markdown",
   "id": "67eb61b8",
   "metadata": {},
   "source": [
    "## 정렬(sort)"
   ]
  },
  {
   "cell_type": "code",
   "execution_count": 128,
   "id": "d359b6ad",
   "metadata": {
    "ExecuteTime": {
     "end_time": "2023-11-24T02:29:55.339802Z",
     "start_time": "2023-11-24T02:29:55.333934Z"
    }
   },
   "outputs": [
    {
     "data": {
      "text/plain": [
       "[1, 2, 3, 4]"
      ]
     },
     "execution_count": 128,
     "metadata": {},
     "output_type": "execute_result"
    }
   ],
   "source": [
    "a = [1, 4, 3, 2]\n",
    "a.sort()\n",
    "a"
   ]
  },
  {
   "cell_type": "code",
   "execution_count": 129,
   "id": "5fff09c3",
   "metadata": {
    "ExecuteTime": {
     "end_time": "2023-11-24T02:30:16.103466Z",
     "start_time": "2023-11-24T02:30:16.099441Z"
    }
   },
   "outputs": [
    {
     "data": {
      "text/plain": [
       "['a', 'b', 'c']"
      ]
     },
     "execution_count": 129,
     "metadata": {},
     "output_type": "execute_result"
    }
   ],
   "source": [
    "a = ['a', 'c', 'b']\n",
    "a.sort()\n",
    "a"
   ]
  },
  {
   "cell_type": "markdown",
   "id": "32d701ca",
   "metadata": {},
   "source": [
    "## 리스트 뒤집기(reverse)"
   ]
  },
  {
   "cell_type": "code",
   "execution_count": 130,
   "id": "5d146f5f",
   "metadata": {
    "ExecuteTime": {
     "end_time": "2023-11-24T02:30:50.105601Z",
     "start_time": "2023-11-24T02:30:50.102811Z"
    }
   },
   "outputs": [],
   "source": [
    "a = ['a', 'c' , 'b']"
   ]
  },
  {
   "cell_type": "code",
   "execution_count": 131,
   "id": "4aa817ef",
   "metadata": {
    "ExecuteTime": {
     "end_time": "2023-11-24T02:30:57.906324Z",
     "start_time": "2023-11-24T02:30:57.902430Z"
    }
   },
   "outputs": [
    {
     "data": {
      "text/plain": [
       "['b', 'c', 'a']"
      ]
     },
     "execution_count": 131,
     "metadata": {},
     "output_type": "execute_result"
    }
   ],
   "source": [
    "a.reverse()\n",
    "a"
   ]
  },
  {
   "cell_type": "markdown",
   "id": "1662d3fe",
   "metadata": {},
   "source": [
    "## 위치 반환(index)"
   ]
  },
  {
   "cell_type": "code",
   "execution_count": 132,
   "id": "30409ab8",
   "metadata": {
    "ExecuteTime": {
     "end_time": "2023-11-24T02:31:51.456778Z",
     "start_time": "2023-11-24T02:31:51.452264Z"
    }
   },
   "outputs": [
    {
     "data": {
      "text/plain": [
       "2"
      ]
     },
     "execution_count": 132,
     "metadata": {},
     "output_type": "execute_result"
    }
   ],
   "source": [
    "a = [1, 2, 3]\n",
    "a.index(3)"
   ]
  },
  {
   "cell_type": "code",
   "execution_count": 133,
   "id": "99409d4d",
   "metadata": {
    "ExecuteTime": {
     "end_time": "2023-11-24T02:32:07.416537Z",
     "start_time": "2023-11-24T02:32:07.382547Z"
    }
   },
   "outputs": [
    {
     "ename": "ValueError",
     "evalue": "5 is not in list",
     "output_type": "error",
     "traceback": [
      "\u001b[1;31m---------------------------------------------------------------------------\u001b[0m",
      "\u001b[1;31mValueError\u001b[0m                                Traceback (most recent call last)",
      "Cell \u001b[1;32mIn[133], line 1\u001b[0m\n\u001b[1;32m----> 1\u001b[0m a\u001b[38;5;241m.\u001b[39mindex(\u001b[38;5;241m5\u001b[39m)\n",
      "\u001b[1;31mValueError\u001b[0m: 5 is not in list"
     ]
    }
   ],
   "source": [
    "a.index(5)"
   ]
  },
  {
   "cell_type": "code",
   "execution_count": 134,
   "id": "2c606bc9",
   "metadata": {
    "ExecuteTime": {
     "end_time": "2023-11-24T02:33:23.205048Z",
     "start_time": "2023-11-24T02:33:23.200082Z"
    }
   },
   "outputs": [
    {
     "data": {
      "text/plain": [
       "2"
      ]
     },
     "execution_count": 134,
     "metadata": {},
     "output_type": "execute_result"
    }
   ],
   "source": [
    "a = [1, 2, 3, 3]\n",
    "a.index(3)"
   ]
  },
  {
   "cell_type": "code",
   "execution_count": 135,
   "id": "8d6b54ec",
   "metadata": {
    "ExecuteTime": {
     "end_time": "2023-11-24T02:33:33.309140Z",
     "start_time": "2023-11-24T02:33:33.304154Z"
    }
   },
   "outputs": [],
   "source": [
    "a.index?"
   ]
  },
  {
   "cell_type": "markdown",
   "id": "bb7964c5",
   "metadata": {},
   "source": [
    "## 요소 삽입(insert)"
   ]
  },
  {
   "cell_type": "code",
   "execution_count": 136,
   "id": "614249bf",
   "metadata": {
    "ExecuteTime": {
     "end_time": "2023-11-24T02:35:27.968230Z",
     "start_time": "2023-11-24T02:35:27.964243Z"
    }
   },
   "outputs": [],
   "source": [
    "a = [1, 2, 3]"
   ]
  },
  {
   "cell_type": "code",
   "execution_count": 140,
   "id": "e0523f9c",
   "metadata": {
    "ExecuteTime": {
     "end_time": "2023-11-24T02:36:09.650887Z",
     "start_time": "2023-11-24T02:36:09.646898Z"
    }
   },
   "outputs": [],
   "source": [
    "a.insert?"
   ]
  },
  {
   "cell_type": "code",
   "execution_count": 138,
   "id": "5fb8dfdb",
   "metadata": {
    "ExecuteTime": {
     "end_time": "2023-11-24T02:35:44.389346Z",
     "start_time": "2023-11-24T02:35:44.384361Z"
    }
   },
   "outputs": [],
   "source": [
    "a.insert(0, 4)"
   ]
  },
  {
   "cell_type": "code",
   "execution_count": 139,
   "id": "d06a490a",
   "metadata": {
    "ExecuteTime": {
     "end_time": "2023-11-24T02:35:46.216747Z",
     "start_time": "2023-11-24T02:35:46.212744Z"
    }
   },
   "outputs": [
    {
     "data": {
      "text/plain": [
       "[4, 1, 2, 3]"
      ]
     },
     "execution_count": 139,
     "metadata": {},
     "output_type": "execute_result"
    }
   ],
   "source": [
    "a"
   ]
  },
  {
   "cell_type": "code",
   "execution_count": 141,
   "id": "65641d01",
   "metadata": {
    "ExecuteTime": {
     "end_time": "2023-11-24T02:36:25.576797Z",
     "start_time": "2023-11-24T02:36:25.544361Z"
    }
   },
   "outputs": [
    {
     "ename": "TypeError",
     "evalue": "insert expected 2 arguments, got 1",
     "output_type": "error",
     "traceback": [
      "\u001b[1;31m---------------------------------------------------------------------------\u001b[0m",
      "\u001b[1;31mTypeError\u001b[0m                                 Traceback (most recent call last)",
      "Cell \u001b[1;32mIn[141], line 1\u001b[0m\n\u001b[1;32m----> 1\u001b[0m a\u001b[38;5;241m.\u001b[39minsert(\u001b[38;5;241m5\u001b[39m)\n\u001b[0;32m      2\u001b[0m a\n",
      "\u001b[1;31mTypeError\u001b[0m: insert expected 2 arguments, got 1"
     ]
    }
   ],
   "source": [
    "a.insert(5)\n",
    "a"
   ]
  },
  {
   "cell_type": "code",
   "execution_count": 142,
   "id": "d01ce885",
   "metadata": {
    "ExecuteTime": {
     "end_time": "2023-11-24T02:36:44.901112Z",
     "start_time": "2023-11-24T02:36:44.896439Z"
    }
   },
   "outputs": [
    {
     "data": {
      "text/plain": [
       "[4, 1, 2, 5, 3]"
      ]
     },
     "execution_count": 142,
     "metadata": {},
     "output_type": "execute_result"
    }
   ],
   "source": [
    "a.insert(3, 5)\n",
    "a"
   ]
  },
  {
   "cell_type": "markdown",
   "id": "31646db4",
   "metadata": {},
   "source": [
    "## 요소 제거(remove)"
   ]
  },
  {
   "cell_type": "code",
   "execution_count": 143,
   "id": "5c0d7550",
   "metadata": {
    "ExecuteTime": {
     "end_time": "2023-11-24T02:37:17.932812Z",
     "start_time": "2023-11-24T02:37:17.927334Z"
    }
   },
   "outputs": [
    {
     "data": {
      "text/plain": [
       "[1, 2, 3, 1, 2, 3]"
      ]
     },
     "execution_count": 143,
     "metadata": {},
     "output_type": "execute_result"
    }
   ],
   "source": [
    "a = [1, 2, 3, 1, 2, 3]\n",
    "a"
   ]
  },
  {
   "cell_type": "code",
   "execution_count": 147,
   "id": "ec033010",
   "metadata": {
    "ExecuteTime": {
     "end_time": "2023-11-24T02:37:42.768772Z",
     "start_time": "2023-11-24T02:37:42.764781Z"
    }
   },
   "outputs": [],
   "source": [
    "a.remove?"
   ]
  },
  {
   "cell_type": "code",
   "execution_count": 145,
   "id": "09a711bb",
   "metadata": {
    "ExecuteTime": {
     "end_time": "2023-11-24T02:37:38.201351Z",
     "start_time": "2023-11-24T02:37:38.197772Z"
    }
   },
   "outputs": [],
   "source": [
    "a.remove(3)"
   ]
  },
  {
   "cell_type": "code",
   "execution_count": 146,
   "id": "63a8e915",
   "metadata": {
    "ExecuteTime": {
     "end_time": "2023-11-24T02:37:39.650647Z",
     "start_time": "2023-11-24T02:37:39.645148Z"
    }
   },
   "outputs": [
    {
     "data": {
      "text/plain": [
       "[1, 2, 1, 2, 3]"
      ]
     },
     "execution_count": 146,
     "metadata": {},
     "output_type": "execute_result"
    }
   ],
   "source": [
    "a"
   ]
  },
  {
   "cell_type": "markdown",
   "id": "f75cab22",
   "metadata": {},
   "source": [
    "## 요소 추출(pop)"
   ]
  },
  {
   "cell_type": "code",
   "execution_count": 148,
   "id": "adb9a01b",
   "metadata": {
    "ExecuteTime": {
     "end_time": "2023-11-24T02:38:19.332450Z",
     "start_time": "2023-11-24T02:38:19.326549Z"
    }
   },
   "outputs": [
    {
     "data": {
      "text/plain": [
       "3"
      ]
     },
     "execution_count": 148,
     "metadata": {},
     "output_type": "execute_result"
    }
   ],
   "source": [
    "a = [1, 2, 3]\n",
    "a.pop()"
   ]
  },
  {
   "cell_type": "code",
   "execution_count": 149,
   "id": "17ec424a",
   "metadata": {
    "ExecuteTime": {
     "end_time": "2023-11-24T02:38:25.820162Z",
     "start_time": "2023-11-24T02:38:25.816172Z"
    }
   },
   "outputs": [
    {
     "data": {
      "text/plain": [
       "[1, 2]"
      ]
     },
     "execution_count": 149,
     "metadata": {},
     "output_type": "execute_result"
    }
   ],
   "source": [
    "a"
   ]
  },
  {
   "cell_type": "code",
   "execution_count": 150,
   "id": "ef2de854",
   "metadata": {
    "ExecuteTime": {
     "end_time": "2023-11-24T02:38:55.387592Z",
     "start_time": "2023-11-24T02:38:55.383259Z"
    }
   },
   "outputs": [
    {
     "data": {
      "text/plain": [
       "2"
      ]
     },
     "execution_count": 150,
     "metadata": {},
     "output_type": "execute_result"
    }
   ],
   "source": [
    "a = [1, 2, 3]\n",
    "a.pop(1)"
   ]
  },
  {
   "cell_type": "code",
   "execution_count": 151,
   "id": "90dd781b",
   "metadata": {
    "ExecuteTime": {
     "end_time": "2023-11-24T02:38:58.156949Z",
     "start_time": "2023-11-24T02:38:58.153033Z"
    }
   },
   "outputs": [
    {
     "data": {
      "text/plain": [
       "[1, 3]"
      ]
     },
     "execution_count": 151,
     "metadata": {},
     "output_type": "execute_result"
    }
   ],
   "source": [
    "a"
   ]
  },
  {
   "cell_type": "markdown",
   "id": "250c8952",
   "metadata": {},
   "source": [
    "## 리스트 확장(extend)"
   ]
  },
  {
   "cell_type": "code",
   "execution_count": 152,
   "id": "dccc2ea2",
   "metadata": {
    "ExecuteTime": {
     "end_time": "2023-11-24T02:41:24.270279Z",
     "start_time": "2023-11-24T02:41:24.265778Z"
    }
   },
   "outputs": [
    {
     "data": {
      "text/plain": [
       "[1, 2, 3, 4, 5]"
      ]
     },
     "execution_count": 152,
     "metadata": {},
     "output_type": "execute_result"
    }
   ],
   "source": [
    "a = [1, 2, 3]\n",
    "a.extend([4, 5])\n",
    "a"
   ]
  },
  {
   "cell_type": "code",
   "execution_count": 153,
   "id": "2c164921",
   "metadata": {
    "ExecuteTime": {
     "end_time": "2023-11-24T02:41:41.815492Z",
     "start_time": "2023-11-24T02:41:41.810142Z"
    }
   },
   "outputs": [],
   "source": [
    "b = [6, 7]\n",
    "a.extend(b)"
   ]
  },
  {
   "cell_type": "code",
   "execution_count": 154,
   "id": "90768b97",
   "metadata": {
    "ExecuteTime": {
     "end_time": "2023-11-24T02:41:44.900971Z",
     "start_time": "2023-11-24T02:41:44.897023Z"
    }
   },
   "outputs": [
    {
     "data": {
      "text/plain": [
       "[1, 2, 3, 4, 5, 6, 7]"
      ]
     },
     "execution_count": 154,
     "metadata": {},
     "output_type": "execute_result"
    }
   ],
   "source": [
    "a"
   ]
  },
  {
   "cell_type": "code",
   "execution_count": 160,
   "id": "c3965d72",
   "metadata": {
    "ExecuteTime": {
     "end_time": "2023-11-24T02:42:50.010885Z",
     "start_time": "2023-11-24T02:42:50.006720Z"
    }
   },
   "outputs": [
    {
     "data": {
      "text/plain": [
       "[1, 2, 3, 4, 5, 6, 7, 4, 5, 4, 5]"
      ]
     },
     "execution_count": 160,
     "metadata": {},
     "output_type": "execute_result"
    }
   ],
   "source": [
    "a += [4,5]\n",
    "a"
   ]
  },
  {
   "cell_type": "markdown",
   "id": "385ab3f2",
   "metadata": {},
   "source": [
    "## 튜플"
   ]
  },
  {
   "cell_type": "code",
   "execution_count": 161,
   "id": "b0033d14",
   "metadata": {
    "ExecuteTime": {
     "end_time": "2023-11-24T02:46:40.174393Z",
     "start_time": "2023-11-24T02:46:40.169668Z"
    }
   },
   "outputs": [
    {
     "name": "stdout",
     "output_type": "stream",
     "text": [
      "() (1,) (1, 2, 3) (1, 2, 3) ('a', 'b', ('ab', 'cd'))\n",
      "<class 'tuple'> <class 'tuple'> <class 'tuple'> <class 'tuple'> <class 'tuple'>\n"
     ]
    }
   ],
   "source": [
    "t1 = () # 빈 객체만 만들어진겁니다.\n",
    "t2 = (1, ) \n",
    "t3 = (1, 2, 3)\n",
    "t4 = 1, 2, 3\n",
    "t5 = ('a', 'b', ('ab', 'cd'))\n",
    "print(t1, t2, t3, t4, t5)\n",
    "print(type(t1), type(t2), type(t3), type(t4), type(t5))"
   ]
  },
  {
   "cell_type": "code",
   "execution_count": 162,
   "id": "c8871416",
   "metadata": {
    "ExecuteTime": {
     "end_time": "2023-11-24T02:47:39.683515Z",
     "start_time": "2023-11-24T02:47:39.679016Z"
    }
   },
   "outputs": [
    {
     "data": {
      "text/plain": [
       "1"
      ]
     },
     "execution_count": 162,
     "metadata": {},
     "output_type": "execute_result"
    }
   ],
   "source": [
    "t6 = (1) # 값을 가지고 객체를 만드는 것\n",
    "t6"
   ]
  },
  {
   "cell_type": "code",
   "execution_count": 163,
   "id": "df20be72",
   "metadata": {
    "ExecuteTime": {
     "end_time": "2023-11-24T02:47:54.072948Z",
     "start_time": "2023-11-24T02:47:54.066427Z"
    }
   },
   "outputs": [
    {
     "name": "stdout",
     "output_type": "stream",
     "text": [
      "1 <class 'int'>\n"
     ]
    }
   ],
   "source": [
    "print(t6, type(t6))"
   ]
  },
  {
   "cell_type": "code",
   "execution_count": 164,
   "id": "fee92c88",
   "metadata": {
    "ExecuteTime": {
     "end_time": "2023-11-24T02:48:30.772524Z",
     "start_time": "2023-11-24T02:48:30.748596Z"
    }
   },
   "outputs": [
    {
     "ename": "TypeError",
     "evalue": "'tuple' object doesn't support item deletion",
     "output_type": "error",
     "traceback": [
      "\u001b[1;31m---------------------------------------------------------------------------\u001b[0m",
      "\u001b[1;31mTypeError\u001b[0m                                 Traceback (most recent call last)",
      "Cell \u001b[1;32mIn[164], line 2\u001b[0m\n\u001b[0;32m      1\u001b[0m t1 \u001b[38;5;241m=\u001b[39m (\u001b[38;5;241m1\u001b[39m, \u001b[38;5;241m2\u001b[39m, \u001b[38;5;124m'\u001b[39m\u001b[38;5;124ma\u001b[39m\u001b[38;5;124m'\u001b[39m, \u001b[38;5;124m'\u001b[39m\u001b[38;5;124mb\u001b[39m\u001b[38;5;124m'\u001b[39m)\n\u001b[1;32m----> 2\u001b[0m \u001b[38;5;28;01mdel\u001b[39;00m t1[\u001b[38;5;241m0\u001b[39m]\n",
      "\u001b[1;31mTypeError\u001b[0m: 'tuple' object doesn't support item deletion"
     ]
    }
   ],
   "source": [
    "t1 = (1, 2, 'a', 'b')\n",
    "del t1[0]"
   ]
  },
  {
   "cell_type": "code",
   "execution_count": 165,
   "id": "0782a47e",
   "metadata": {
    "ExecuteTime": {
     "end_time": "2023-11-24T02:49:31.191838Z",
     "start_time": "2023-11-24T02:49:31.165873Z"
    }
   },
   "outputs": [
    {
     "ename": "TypeError",
     "evalue": "'tuple' object does not support item assignment",
     "output_type": "error",
     "traceback": [
      "\u001b[1;31m---------------------------------------------------------------------------\u001b[0m",
      "\u001b[1;31mTypeError\u001b[0m                                 Traceback (most recent call last)",
      "Cell \u001b[1;32mIn[165], line 2\u001b[0m\n\u001b[0;32m      1\u001b[0m t1 \u001b[38;5;241m=\u001b[39m (\u001b[38;5;241m1\u001b[39m, \u001b[38;5;241m2\u001b[39m, \u001b[38;5;124m'\u001b[39m\u001b[38;5;124ma\u001b[39m\u001b[38;5;124m'\u001b[39m, \u001b[38;5;124m'\u001b[39m\u001b[38;5;124mb\u001b[39m\u001b[38;5;124m'\u001b[39m)\n\u001b[1;32m----> 2\u001b[0m t1[\u001b[38;5;241m0\u001b[39m] \u001b[38;5;241m=\u001b[39m \u001b[38;5;124m'\u001b[39m\u001b[38;5;124mc\u001b[39m\u001b[38;5;124m'\u001b[39m\n",
      "\u001b[1;31mTypeError\u001b[0m: 'tuple' object does not support item assignment"
     ]
    }
   ],
   "source": [
    "t1 = (1, 2, 'a', 'b')\n",
    "t1[0] = 'c'"
   ]
  }
 ],
 "metadata": {
  "kernelspec": {
   "display_name": "Python 3 (ipykernel)",
   "language": "python",
   "name": "python3"
  },
  "language_info": {
   "codemirror_mode": {
    "name": "ipython",
    "version": 3
   },
   "file_extension": ".py",
   "mimetype": "text/x-python",
   "name": "python",
   "nbconvert_exporter": "python",
   "pygments_lexer": "ipython3",
   "version": "3.11.5"
  },
  "toc": {
   "base_numbering": 1,
   "nav_menu": {},
   "number_sections": true,
   "sideBar": true,
   "skip_h1_title": false,
   "title_cell": "Table of Contents",
   "title_sidebar": "Contents",
   "toc_cell": false,
   "toc_position": {
    "height": "calc(100% - 180px)",
    "left": "10px",
    "top": "150px",
    "width": "384px"
   },
   "toc_section_display": true,
   "toc_window_display": false
  },
  "varInspector": {
   "cols": {
    "lenName": 16,
    "lenType": 16,
    "lenVar": 40
   },
   "kernels_config": {
    "python": {
     "delete_cmd_postfix": "",
     "delete_cmd_prefix": "del ",
     "library": "var_list.py",
     "varRefreshCmd": "print(var_dic_list())"
    },
    "r": {
     "delete_cmd_postfix": ") ",
     "delete_cmd_prefix": "rm(",
     "library": "var_list.r",
     "varRefreshCmd": "cat(var_dic_list()) "
    }
   },
   "types_to_exclude": [
    "module",
    "function",
    "builtin_function_or_method",
    "instance",
    "_Feature"
   ],
   "window_display": false
  }
 },
 "nbformat": 4,
 "nbformat_minor": 5
}
